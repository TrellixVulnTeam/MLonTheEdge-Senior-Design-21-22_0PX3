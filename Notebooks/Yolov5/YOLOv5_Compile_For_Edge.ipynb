{
  "cells": [
    {
      "cell_type": "markdown",
      "metadata": {
        "id": "hRTa3Ee15WsJ"
      },
      "source": [
        "# Compile a model for the Edge TPU"
      ]
    },
    {
      "cell_type": "markdown",
      "metadata": {
        "id": "TaX0smDP7xQY"
      },
      "source": [
        "This notebook offers a convenient way to compile a TensorFlow Lite model for the Edge TPU, in case you don't have a system that's compatible with the [Edge TPU Compiler](https://coral.ai/docs/edgetpu/compiler/) (Debian Linux only).\n",
        "\n",
        "Simply upload a compatible `.tflite` file to this Colab session, run the code below, and then download the compiled model.\n",
        "\n",
        "For more details about how to create a model that's compatible with the Edge TPU, see the [documentation at coral.ai](https://coral.ai/docs/edgetpu/models-intro/).\n"
      ]
    },
    {
      "cell_type": "code",
      "execution_count": null,
      "metadata": {
        "colab": {
          "base_uri": "https://localhost:8080/"
        },
        "collapsed": true,
        "id": "yLm4EwehdOeo",
        "outputId": "63e28850-f4ef-4ef8-acc4-af8eb7c9168f",
        "vscode": {
          "languageId": "python"
        }
      },
      "outputs": [],
      "source": [
        "#Import YOLOv5 for tflite export of model\n",
        "#Be sure to upload model you wish to export\n",
        "!git clone https://github.com/achelm15/yolov5.git\n",
        "%cd yolov5"
      ]
    },
    {
      "cell_type": "code",
      "execution_count": null,
      "metadata": {
        "id": "qhel0MzSeTTk",
        "vscode": {
          "languageId": "python"
        }
      },
      "outputs": [],
      "source": [
        "#Upload and Unzip dataset for tflite export\n",
        "%%capture\n",
        "!unzip LPCVtrain.zip\n",
        "%cp -r LPCV/train LPCV/valid"
      ]
    },
    {
      "cell_type": "code",
      "execution_count": null,
      "metadata": {
        "id": "3iEHDizUd6rS",
        "vscode": {
          "languageId": "python"
        }
      },
      "outputs": [],
      "source": [
        "data = open(\"data.yaml\", \"w\")\n",
        "data.write(\"train: ./LPCV/train/images\\nval: ./LPCV/valid/images\\nnc: 2\\nnames: [\\'person\\', \\'sports-ball\\']\")\n",
        "data.close()"
      ]
    },
    {
      "cell_type": "code",
      "execution_count": null,
      "metadata": {
        "id": "54EC6wR6wKnl",
        "vscode": {
          "languageId": "python"
        }
      },
      "outputs": [],
      "source": [
        "!pip install torch==1.9\n",
        "!pip install torchvision==0.10"
      ]
    },
    {
      "cell_type": "code",
      "execution_count": null,
      "metadata": {
        "id": "h0K5getosrCX",
        "vscode": {
          "languageId": "python"
        }
      },
      "outputs": [],
      "source": [
        "#Test original model accuracy\n",
        "!python val.py --weights best.pt --img 512 --data data.yaml"
      ]
    },
    {
      "cell_type": "code",
      "execution_count": null,
      "metadata": {
        "id": "EyDmUlb2CxpG",
        "vscode": {
          "languageId": "python"
        }
      },
      "outputs": [],
      "source": [
        "#Export model, be sure to choose desired image size\n",
        "!python export.py --weights best.pt --img 512 --include tflite --int8 --data data.yaml"
      ]
    },
    {
      "cell_type": "code",
      "execution_count": null,
      "metadata": {
        "id": "ApQmSLJJDJJ0",
        "vscode": {
          "languageId": "python"
        }
      },
      "outputs": [],
      "source": [
        "#Test original model accuracy\n",
        "!python val.py --weights best.tflite --img 512 --data data.yaml"
      ]
    },
    {
      "cell_type": "markdown",
      "metadata": {
        "id": "viewin-badges"
      },
      "source": [
        "<a href=\"https://colab.research.google.com/github/google-coral/tutorials/blob/master/compile_for_edgetpu.ipynb\" target=\"_parent\"><img src=\"https://colab.research.google.com/assets/colab-badge.svg\" alt=\"Open in Colab\"></a>\n",
        "&nbsp;&nbsp;&nbsp;&nbsp;\n",
        "<a href=\"https://github.com/google-coral/tutorials/blob/master/compile_for_edgetpu.ipynb\" target=\"_parent\"><img src=\"https://img.shields.io/static/v1?logo=GitHub&label=&color=333333&style=flat&message=View%20on%20GitHub\" alt=\"View in GitHub\"></a>\n"
      ]
    },
    {
      "cell_type": "markdown",
      "metadata": {
        "id": "RZatNsloxg8q"
      },
      "source": [
        "## Upload a compatible TF Lite model"
      ]
    },
    {
      "cell_type": "markdown",
      "metadata": {
        "id": "mkOQJOjMxkmn"
      },
      "source": [
        "To use this script, you need to upload a TensorFlow Lite model that's fully quantized and meets all the [Edge TPU model requirements](https://coral.ai/docs/edgetpu/models-intro/#model-requirements).\n",
        "\n",
        "With a compatible model in-hand, you can upload it as follows:\n",
        "\n",
        "1.  Click the **Files** tab (the folder icon) in the left panel. (Do not change directories.)\n",
        "2.  Click **Upload to session storage** (the file icon). \n",
        "3.  Follow your system UI to select and open your `.tflite` file.\n",
        "    \n",
        "    When it's uploaded, you should see the file appear in the left panel.\n",
        "4.  Replace `example.tflite` with your uploaded model's filename:"
      ]
    },
    {
      "cell_type": "markdown",
      "metadata": {
        "id": "kafLbVJPxwL_"
      },
      "source": [
        "5.  Now click **Runtime > Run all** in the Colab toolbar."
      ]
    },
    {
      "cell_type": "markdown",
      "metadata": {
        "id": "9JPzsCxm05Qj"
      },
      "source": [
        "## Get the Edge TPU Compiler"
      ]
    },
    {
      "cell_type": "code",
      "execution_count": null,
      "metadata": {
        "id": "p6ZpWgrk21Ad",
        "vscode": {
          "languageId": "python"
        }
      },
      "outputs": [],
      "source": [
        "! curl https://packages.cloud.google.com/apt/doc/apt-key.gpg | sudo apt-key add -\n",
        "\n",
        "! echo \"deb https://packages.cloud.google.com/apt coral-edgetpu-stable main\" | sudo tee /etc/apt/sources.list.d/coral-edgetpu.list\n",
        "\n",
        "! sudo apt-get update\n",
        "\n",
        "! sudo apt-get install edgetpu-compiler\t"
      ]
    },
    {
      "cell_type": "markdown",
      "metadata": {
        "id": "mtPcYiER3Ymp"
      },
      "source": [
        "## Compile the model"
      ]
    },
    {
      "cell_type": "code",
      "execution_count": null,
      "metadata": {
        "colab": {
          "base_uri": "https://localhost:8080/"
        },
        "id": "R-tq06rE1j4x",
        "outputId": "a75a5410-3c3c-49ed-fd2a-48c511498d8b",
        "vscode": {
          "languageId": "python"
        }
      },
      "outputs": [],
      "source": [
        "%env TFLITE_FILE=best.tflite"
      ]
    },
    {
      "cell_type": "code",
      "execution_count": null,
      "metadata": {
        "id": "joxrIB0I3cdi",
        "vscode": {
          "languageId": "python"
        }
      },
      "outputs": [],
      "source": [
        "! edgetpu_compiler -s -i \"model/tf_detect/Sigmoid;model/tf_detect/transpose;model/tf_detect/Reshape1\" -a $TFLITE_FILE"
      ]
    },
    {
      "cell_type": "markdown",
      "metadata": {
        "id": "7R8JMQc1MMm5"
      },
      "source": [
        "The compiled model uses the same filename but with \"_edgetpu\" appended at the end.\n",
        "\n",
        "If the compilation failed, check the **Files** panel on the left for the `.log` file that contains more details. (You might need to click the **Refresh** button to see the new files.)\n"
      ]
    }
  ],
  "metadata": {
    "accelerator": "GPU",
    "colab": {
      "collapsed_sections": [],
      "name": "YOLOv5_compile_for_edgetpu.ipynb",
      "provenance": []
    },
    "kernelspec": {
      "display_name": "Python 3",
      "name": "python3"
    }
  },
  "nbformat": 4,
  "nbformat_minor": 0
}
