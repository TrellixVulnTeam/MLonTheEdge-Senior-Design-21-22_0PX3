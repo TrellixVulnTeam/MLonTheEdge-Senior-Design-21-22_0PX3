{
  "cells": [
    {
      "cell_type": "markdown",
      "metadata": {
        "id": "tqSXKg30PYzD"
      },
      "source": [
        "#Run these cells to install dependencies\n",
        "These may need to be edited as YOLOv5 and these dependencies are constantly being updated"
      ]
    },
    {
      "cell_type": "code",
      "execution_count": null,
      "metadata": {
        "id": "9h4bqrTqv1EV"
      },
      "outputs": [],
      "source": [
        "from tensorflow import keras\n",
        "import tensorflow_datasets as tfds\n",
        "%matplotlib inline\n",
        "import matplotlib.pyplot as plt\n",
        "import matplotlib.image as mpimg\n",
        "import os\n",
        "import tensorflow as tf\n",
        "import numpy as np\n",
        "import glob\n",
        "from shutil import copyfile\n",
        "from PIL import Image\n",
        "from math import floor, ceil\n",
        "import sys"
      ]
    },
    {
      "cell_type": "code",
      "execution_count": null,
      "metadata": {
        "colab": {
          "base_uri": "https://localhost:8080/"
        },
        "id": "EW1cE9kAVttk",
        "outputId": "456b6752-f3e2-4515-d6e8-c80137585a01"
      },
      "outputs": [],
      "source": [
        "#This is a customized version of YOLOv5, allowing edits to the C3 modules within the YOLOv5 head\n",
        "!git clone https://github.com/achelm15/yolov5.git\n",
        "%cd yolov5\n",
        "!pip install -r requirements.txt\n",
        "\n",
        "import os\n",
        "import cv2\n",
        "import zipfile\n",
        "from os import path\n",
        "import shutil\n",
        "import csv\n",
        "import random\n",
        "import numpy as np"
      ]
    },
    {
      "cell_type": "markdown",
      "metadata": {
        "id": "pUu8iBTr05R_"
      },
      "source": [
        "# The next few cells can be used to download and train on LPCV Data Directly\n",
        "# You must upload all LPCV M4V and CSV files to create the dataset"
      ]
    },
    {
      "cell_type": "code",
      "execution_count": null,
      "metadata": {
        "colab": {
          "base_uri": "https://localhost:8080/"
        },
        "id": "YPJhOAlzBj69",
        "outputId": "859af255-c7a6-4af8-c395-20dde4015e8d"
      },
      "outputs": [
        {
          "name": "stdout",
          "output_type": "stream",
          "text": [
            "/content/yolov5/LPCV\n",
            "/content/yolov5\n"
          ]
        }
      ],
      "source": [
        "%mkdir LPCV\n",
        "%cd LPCV\n",
        "%mkdir images\n",
        "%mkdir labels\n",
        "%mkdir valid\n",
        "%mkdir valid/images\n",
        "%mkdir valid/labels\n",
        "%mkdir train\n",
        "%mkdir train/images\n",
        "%mkdir train/labels\n",
        "%cd .."
      ]
    },
    {
      "cell_type": "code",
      "execution_count": null,
      "metadata": {
        "id": "mSrdeTH-eL96"
      },
      "outputs": [],
      "source": [
        "%rm -r LPCV/train\n",
        "%rm -r LPCV/valid\n",
        "%mkdir ./LPCV/valid\n",
        "%mkdir ./LPCV/valid/images\n",
        "%mkdir ./LPCV/valid/labels\n",
        "%mkdir ./LPCV/train\n",
        "%mkdir ./LPCV/train/images\n",
        "%mkdir ./LPCV/train/labels"
      ]
    },
    {
      "cell_type": "code",
      "execution_count": null,
      "metadata": {
        "id": "ZDV2lp94A7bI"
      },
      "outputs": [],
      "source": [
        "def capture_frames(video, variety):\n",
        "  vidcap = cv2.VideoCapture(video)\n",
        "  success,image = vidcap.read()\n",
        "  count = 0\n",
        "  while success:\n",
        "    cv2.imwrite(\"LPCV/images/{}_frame{}.jpg\".format(variety,count), image)     # save frame as JPEG file      \n",
        "    success,image = vidcap.read()\n",
        "    count += 1\n",
        "  print(\"Finished Reading \" + video)"
      ]
    },
    {
      "cell_type": "code",
      "execution_count": null,
      "metadata": {
        "id": "ZCl60JNDDwCY"
      },
      "outputs": [],
      "source": [
        "def create_labels(video_csv, variety):\n",
        "  with open(video_csv, newline='') as csvfile:\n",
        "    csv_reader = csv.reader(csvfile)\n",
        "    yolo_labels = []\n",
        "    for row in csv_reader:\n",
        "      frame = row[0]\n",
        "      if row[0] == \"Frame\":\n",
        "        continue\n",
        "      else:\n",
        "        with open(\"LPCV/labels/\"+variety+\"_frame\" + str(frame) + \".txt\", \"a\") as yololabelfile:\n",
        "          yoloarray = row\n",
        "          del yoloarray[2:3]\n",
        "          del yoloarray[0:1]\n",
        "          for item in yoloarray:\n",
        "            yololabelfile.write(\"%s \" % item)\n",
        "          yololabelfile.write(\"\\n\")"
      ]
    },
    {
      "cell_type": "code",
      "execution_count": null,
      "metadata": {
        "colab": {
          "base_uri": "https://localhost:8080/"
        },
        "id": "HN-3odZ3B08j",
        "outputId": "2024f658-f2ba-47f2-d51a-43d5ec3db4d5"
      },
      "outputs": [],
      "source": [
        "capture_frames('4p1b_01A2.m4v','4p1b')\n",
        "capture_frames('5p2b_01A1.m4v','5p2b')\n",
        "capture_frames('5p4b_01A2.m4v','5p4b')\n",
        "capture_frames('5p5b_03A1.m4v','5p5b')\n",
        "capture_frames('7p3b_02M.m4v','7p3b')"
      ]
    },
    {
      "cell_type": "code",
      "execution_count": null,
      "metadata": {
        "colab": {
          "base_uri": "https://localhost:8080/",
          "height": 368
        },
        "id": "zhQMrqupC-Ed",
        "outputId": "5029fd98-0797-47eb-f9e5-b5bc3711900e"
      },
      "outputs": [],
      "source": [
        "create_labels('4p1b_01A2.csv','4p1b')\n",
        "create_labels('5p2b_01A1.csv','5p2b')\n",
        "create_labels('5p4b_01A2.csv','5p4b')\n",
        "create_labels('5p5b_03A1.csv','5p5b')\n",
        "create_labels('7p3b_02M.csv','7p3b')"
      ]
    },
    {
      "cell_type": "code",
      "execution_count": null,
      "metadata": {
        "id": "1fWTjgO-uKhw"
      },
      "outputs": [],
      "source": [
        "for root, dirs, files in os.walk('LPCV/labels/', topdown=False):\n",
        "    for filename in files:\n",
        "      num = filename[10:filename.find(\".\")]\n",
        "      name = filename[:10]\n",
        "      video_file = name+num+\".jpg\"\n",
        "      copyfile('LPCV/labels/'+filename, 'LPCV/train/labels/'+filename)\n",
        "      copyfile('LPCV/images/'+video_file, 'LPCV/train/images/'+video_file)"
      ]
    },
    {
      "cell_type": "code",
      "execution_count": null,
      "metadata": {
        "id": "RNuC86IpB6GT"
      },
      "outputs": [],
      "source": [
        "!zip -r LPCVtrain.zip"
      ]
    },
    {
      "cell_type": "markdown",
      "metadata": {
        "id": "m952YYfPVvKo"
      },
      "source": [
        "#To save LPCV image and labels, zip and download the LPCV folder at this point. In the future the folder can be uploaded and the above cells are uneccessary"
      ]
    },
    {
      "cell_type": "code",
      "execution_count": null,
      "metadata": {
        "colab": {
          "base_uri": "https://localhost:8080/"
        },
        "id": "88bH6IlXcusr",
        "outputId": "dcc22a21-5471-480b-80fe-e46d1c6c868a"
      },
      "outputs": [],
      "source": [
        "%%capture\n",
        "%rm -r ./LPCV"
      ]
    },
    {
      "cell_type": "code",
      "execution_count": null,
      "metadata": {
        "id": "zS7RMLg7YGFY"
      },
      "outputs": [],
      "source": [
        "%%capture\n",
        "!unzip LPCVtrain.zip"
      ]
    },
    {
      "cell_type": "code",
      "execution_count": null,
      "metadata": {
        "colab": {
          "base_uri": "https://localhost:8080/"
        },
        "id": "dD_SKy7ebSZC",
        "outputId": "2df43d8e-03cf-4b84-e8d5-20ccc8f79dfc"
      },
      "outputs": [],
      "source": [
        "%mkdir ./LPCV/valid\n",
        "%mkdir ./LPCV/valid/images\n",
        "%mkdir ./LPCV/valid/labels"
      ]
    },
    {
      "cell_type": "code",
      "execution_count": null,
      "metadata": {
        "id": "25xA556wy8uZ"
      },
      "outputs": [],
      "source": [
        "def contrast_image(image, new_image, folder):\n",
        "    img = Image.open(folder+'/images/'+image)\n",
        "    img = np.array(img)\n",
        "    img = tf.image.random_contrast(img, 2, 5, 42)\n",
        "    img = img.numpy()\n",
        "    im = Image.fromarray(img)\n",
        "    im.save(folder+'/images/'+new_image)\n",
        "    copy_label(image, \"contrast\", folder)\n",
        "def noise_image(image, new_image, folder):\n",
        "    img = Image.open(folder+'/images/'+image)\n",
        "    img = np.array(img)\n",
        "    img = tf.image.stateless_random_jpeg_quality(img, 2, 20, (42,42))\n",
        "    img = img.numpy()\n",
        "    im = Image.fromarray(img)\n",
        "    im.save(folder+'/images/'+new_image)\n",
        "    copy_label(image, \"noise\", folder)\n",
        "def grayscale_image(image, new_image, folder):\n",
        "    img = Image.open(folder+'/images/'+image)\n",
        "    img = np.array(img)\n",
        "    img = tf.image.rgb_to_grayscale(img)\n",
        "    img = img.numpy()\n",
        "    img = img.reshape((img.shape[0], img.shape[1]))\n",
        "    im = Image.fromarray(img, 'L')\n",
        "    im.save(folder+'/images/'+new_image)\n",
        "    copy_label(image, \"grayscale\", folder)\n",
        "def saturate_image(image, new_image, folder):\n",
        "    img = Image.open(folder+'/images/'+image)\n",
        "    img = np.array(img)\n",
        "    img = tf.image.random_saturation(img, 2, 120, 42)\n",
        "    img = img.numpy()\n",
        "    im = Image.fromarray(img)\n",
        "    im.save(folder+'/images/'+new_image)\n",
        "    copy_label(image, \"saturate\", folder)\n",
        "def hue_image(image, new_image, folder):\n",
        "    img = Image.open(folder+'/images/'+image)\n",
        "    img = np.array(img)\n",
        "    img = tf.image.random_hue(img, 0.1)\n",
        "    img = img.numpy()\n",
        "    im = Image.fromarray(img)\n",
        "    im.save(folder+'/images/'+new_image)\n",
        "    copy_label(image, \"hue\", folder)\n",
        "def flip_image_lr(image, new_image, folder):\n",
        "    img = Image.open(folder+'/images/'+image)\n",
        "    img = np.array(img)\n",
        "    img = tf.image.flip_left_right(img)\n",
        "    img = img.numpy()\n",
        "    im = Image.fromarray(img)\n",
        "    im.save(folder+'/images/'+new_image)\n",
        "    flip_label_lr(image[:image.find('.')]+\".txt\", image[:image.find('.')]+\"_flip_lr.txt\", folder)\n",
        "def flip_image_ud(image, new_image, folder):\n",
        "    img = Image.open(folder+'/images/'+image)\n",
        "    img = np.array(img)\n",
        "    img = tf.image.flip_up_down(img)\n",
        "    img = img.numpy()\n",
        "    im = Image.fromarray(img)\n",
        "    im.save(folder+'/images/'+new_image)\n",
        "    flip_label_ud(image[:image.find('.')]+\".txt\", image[:image.find('.')]+\"_flip_ud.txt\", folder)\n",
        "def rot_90(image, new_image, folder):\n",
        "    img = Image.open(folder+'/images/'+image)\n",
        "    img = np.array(img)\n",
        "    img = tf.image.rot90(img)\n",
        "    img = img.numpy()\n",
        "    im = Image.fromarray(img)\n",
        "    im.save(folder+'/images/'+new_image)\n",
        "    label_rot_90(image[:image.find('.')]+\".txt\", image[:image.find('.')]+\"_rot_90.txt\", folder)\n",
        "def crop_bbox(image, new_image, folder):\n",
        "    img = Image.open(folder+'/images/'+image)\n",
        "    img = np.array(img)\n",
        "    width = img.shape[1]\n",
        "    height = img.shape[0]\n",
        "    label_file = folder+\"/labels/\"+image[:image.find('.')]+\".txt\"\n",
        "    ball_list = []\n",
        "    with open(label_file) as f:\n",
        "        count = 0\n",
        "        lines = f.readlines()\n",
        "        new_lines = []\n",
        "        for x in lines:\n",
        "            words = x.split(\" \")\n",
        "            if words[0]==\"1\":\n",
        "                ball_list.append(words)\n",
        "                xp = float(words[1])\n",
        "                yp = float(words[2])\n",
        "                wp = float(words[3])\n",
        "                hp = float(words[4])\n",
        "                x1 = int(floor(xp*width-(wp*width)/2))\n",
        "                y1 = int(floor(yp*height-(hp*height)/2))\n",
        "                image = tf.image.crop_to_bounding_box(img,y1,x1,int(ceil(hp*height)),int(ceil(wp*width)))\n",
        "                image = image.numpy()\n",
        "                im = Image.fromarray(image)\n",
        "                file = new_image[0:new_image.find('.')]+\"_\"+str(count)+new_image[new_image.find('.'):]\n",
        "                im.save(folder+'/images/'+file)\n",
        "                new_label_file = file[:file.find('.')]+\".txt\"\n",
        "                bb_crop_label(new_label_file, folder)\n",
        "                count += 1\n",
        "def bb_crop_label(new_label_file, folder):\n",
        "    with open(folder+'/labels/'+new_label_file, 'w') as f:\n",
        "        f.write(\"1 0.5 0.5 1.0 1.0\")\n",
        "def flip_label_lr(label_file, new_label_file, folder):\n",
        "    label_file = folder+\"/labels/\"+label_file\n",
        "    new_label_file = folder+\"/labels/\"+new_label_file\n",
        "    with open(label_file) as f:\n",
        "        lines = f.readlines()\n",
        "        new_lines = []\n",
        "        for x in lines:\n",
        "            words = x.split(\" \")\n",
        "            words[1] = str(1-float(words[1]))\n",
        "            new_lines.append(\" \".join(words))\n",
        "    f.close()\n",
        "    with open(new_label_file, 'w') as f:\n",
        "        for x in new_lines:\n",
        "            f.write(x)\n",
        "def flip_label_ud(label_file, new_label_file, folder):\n",
        "    label_file = folder+\"/labels/\"+label_file\n",
        "    new_label_file = folder+\"/labels/\"+new_label_file\n",
        "    with open(label_file) as f:\n",
        "        lines = f.readlines()\n",
        "        new_lines = []\n",
        "        for x in lines:\n",
        "            words = x.split(\" \")\n",
        "            words[2] = str(1-float(words[2]))\n",
        "            new_lines.append(\" \".join(words))\n",
        "    f.close()\n",
        "    with open(new_label_file, 'w') as f:\n",
        "        for x in new_lines:\n",
        "            f.write(x)\n",
        "def label_rot_90(label_file, new_label_file, folder):\n",
        "    label_file = folder+\"/labels/\"+label_file\n",
        "    new_label_file = folder+\"/labels/\"+new_label_file\n",
        "    with open(label_file) as f:\n",
        "        lines = f.readlines()\n",
        "        new_lines = []\n",
        "        for x in lines:\n",
        "            words = x.split(\" \")\n",
        "            x = words[1]\n",
        "            y = words[2]\n",
        "            w = words[3]\n",
        "            h = words[4]\n",
        "            words[1] = y\n",
        "            words[2] = str(1-float(x))\n",
        "            words[3] = h\n",
        "            words[4] = w\n",
        "            new_lines.append(\" \".join(words))\n",
        "    f.close()\n",
        "    with open(new_label_file, 'w') as f:\n",
        "        for x in new_lines:\n",
        "            f.write(x)\n",
        "def copy_label(image, augmentation, folder):\n",
        "    filename = image[:image.find('.')]\n",
        "    new_filename = folder+'/labels/'+filename+'_'+augmentation+'.txt'\n",
        "    filename = folder+'/labels/'+filename+'.txt'\n",
        "    copyfile(filename, new_filename)"
      ]
    },
    {
      "cell_type": "code",
      "execution_count": null,
      "metadata": {
        "id": "xAd0zgmGzL6B"
      },
      "outputs": [],
      "source": [
        "aug_list = ['_contrast', '_noise', '_flip_lr', '_flip_ud', '_rot_90', '_saturate', '_hue']\n",
        "data_dir = \"./LPCV/train\""
      ]
    },
    {
      "cell_type": "code",
      "execution_count": null,
      "metadata": {
        "id": "5x_exOYUzPrL"
      },
      "outputs": [],
      "source": [
        "for root, dirs, files in os.walk(data_dir+'/images/', topdown=False):\n",
        "    for file in files:\n",
        "      count = 0\n",
        "      for j in aug_list:\n",
        "        filename = file[:file.find('.')]+j+file[file.find('.'):]\n",
        "        if count==0: contrast_image(file, filename, data_dir)\n",
        "        if count==1: noise_image(file, filename, data_dir)\n",
        "        if count==2: flip_image_lr(file, filename, data_dir)\n",
        "        if count==3: flip_image_ud(file, filename, data_dir)\n",
        "        if count==4: rot_90(file, filename, data_dir)\n",
        "        if count==5: saturate_image(file, filename, data_dir)\n",
        "        if count==6: hue_image(file, filename, data_dir)\n",
        "        count+=1"
      ]
    },
    {
      "cell_type": "code",
      "execution_count": null,
      "metadata": {
        "id": "mxxm60lZXigF"
      },
      "outputs": [],
      "source": [
        "for root, dirs, files in os.walk(data_dir+'/images/', topdown=False):\n",
        "    for file in files:\n",
        "        filename = file[:file.find('.')]+\"_grayscale\"+file[file.find('.'):]\n",
        "        grayscale_image(file, filename, data_dir)"
      ]
    },
    {
      "cell_type": "code",
      "execution_count": null,
      "metadata": {
        "id": "w8qCdzcr5dK-"
      },
      "outputs": [],
      "source": [
        "def moveFiles(src, dst):\n",
        "  files = []\n",
        "  for i in os.listdir(src):\n",
        "    files.append(i)\n",
        "  files = sorted(files)\n",
        "  listt = np.random.RandomState(seed=12).permutation(files)[:300]\n",
        "  for f in listt:\n",
        "    shutil.copy(os.path.join(src, f), dst)\n",
        "    p = os.path.join(src, f)\n",
        "    os.remove(p)"
      ]
    },
    {
      "cell_type": "code",
      "execution_count": null,
      "metadata": {
        "id": "0RKp4YPe53E0"
      },
      "outputs": [],
      "source": [
        "data = open(\"data.yaml\", \"w\")\n",
        "data.write(\"train: ./LPCV/train/images\\nval: ./LPCV/valid/images\\nnc: 2\\nnames: [\\'person\\', \\'sports-ball\\']\")\n",
        "data.close()"
      ]
    },
    {
      "cell_type": "code",
      "execution_count": null,
      "metadata": {
        "id": "bTwqGAg6_REy"
      },
      "outputs": [],
      "source": [
        "%cp -r LPCV LPCVrestart"
      ]
    },
    {
      "cell_type": "markdown",
      "metadata": {
        "id": "Trap51TAOIkM"
      },
      "source": [
        "#Copy directory in case of need for later use"
      ]
    },
    {
      "cell_type": "markdown",
      "metadata": {
        "id": "yRiePnn8EeK3"
      },
      "source": [
        "#Add additional Ball pictures\n",
        "\n",
        "Additional images downloaded from: https://purdue0-my.sharepoint.com/personal/akocher_purdue_edu/_layouts/15/onedrive.aspx?id=%2Fpersonal%2Fakocher%5Fpurdue%5Fedu%2FDocuments%2FVIP%2FDataset%2FballPerson%2Etar%2Egz&parent=%2Fpersonal%2Fakocher%5Fpurdue%5Fedu%2FDocuments%2FVIP%2FDataset&ga=1\n",
        "\n",
        "The file at this link should be downloaded and placed in your google drive"
      ]
    },
    {
      "cell_type": "code",
      "execution_count": null,
      "metadata": {
        "colab": {
          "base_uri": "https://localhost:8080/"
        },
        "id": "p9d8kzg3IOhL",
        "outputId": "fd1767a0-fbf7-44e3-f707-3c4ba17fa178"
      },
      "outputs": [],
      "source": [
        "from google.colab import drive\n",
        "drive.mount('/content/gdrive')"
      ]
    },
    {
      "cell_type": "code",
      "execution_count": null,
      "metadata": {
        "id": "OPhtGOFuEeLE"
      },
      "outputs": [],
      "source": [
        "%cp ../gdrive/MyDrive/Fall2021/ballPerson.tar.gz ballPerson.tar.gz  "
      ]
    },
    {
      "cell_type": "code",
      "execution_count": null,
      "metadata": {
        "colab": {
          "base_uri": "https://localhost:8080/"
        },
        "id": "WATGj7gdOZpE",
        "outputId": "59c498db-8077-4d96-c2fa-6f7bf56917ee"
      },
      "outputs": [],
      "source": [
        "%rm -r ballPerson"
      ]
    },
    {
      "cell_type": "code",
      "execution_count": null,
      "metadata": {
        "id": "fX8OrEJ8MHyM"
      },
      "outputs": [],
      "source": [
        "!tar -xf ballPerson.tar.gz"
      ]
    },
    {
      "cell_type": "code",
      "execution_count": null,
      "metadata": {
        "id": "whdoPjTJNEKd"
      },
      "outputs": [],
      "source": [
        "def moveFiles(src, dst):\n",
        "  files = []\n",
        "  for i in os.listdir(src):\n",
        "    files.append(i)\n",
        "  files = sorted(files)\n",
        "  listt = np.random.RandomState(seed=12).permutation(files)[:750]\n",
        "  for f in listt:\n",
        "    shutil.copy(os.path.join(src, f), dst)\n",
        "    p = os.path.join(src, f)\n",
        "    os.remove(p)"
      ]
    },
    {
      "cell_type": "code",
      "execution_count": null,
      "metadata": {
        "id": "uo9KwIl1NA5X"
      },
      "outputs": [],
      "source": [
        "moveFiles(\"ballPerson/images/train\", \"LPCV/train/images\")\n",
        "moveFiles(\"ballPerson/labels/train\", \"LPCV/train/labels\")"
      ]
    },
    {
      "cell_type": "code",
      "execution_count": null,
      "metadata": {
        "id": "ZDJDvfzGC-j0"
      },
      "outputs": [],
      "source": [
        "\n",
        "def moveFiles2(src, dst):\n",
        "  files = []\n",
        "  for i in os.listdir(src):\n",
        "    files.append(i)\n",
        "  files = sorted(files)\n",
        "  listt = np.random.RandomState(seed=12).permutation(files)[:250]\n",
        "  for f in listt:\n",
        "    shutil.copy(os.path.join(src, f), dst)\n",
        "    p = os.path.join(src, f)\n",
        "    os.remove(p)"
      ]
    },
    {
      "cell_type": "code",
      "execution_count": null,
      "metadata": {
        "id": "IG1syp43DIJn"
      },
      "outputs": [],
      "source": [
        "moveFiles2(\"ballPerson/images/train\", \"LPCV/valid/images\")\n",
        "moveFiles2(\"ballPerson/labels/train\", \"LPCV/valid/labels\")"
      ]
    },
    {
      "cell_type": "code",
      "execution_count": null,
      "metadata": {
        "colab": {
          "base_uri": "https://localhost:8080/"
        },
        "id": "VOjrsbD1NyLx",
        "outputId": "c2a30c4c-3f98-4833-9d0f-5342cd4404b8"
      },
      "outputs": [],
      "source": [
        "%ls LPCV/train/images | wc -l\n",
        "%ls LPCV/train/labels | wc -l\n",
        "%ls LPCV/valid/images | wc -l\n",
        "%ls LPCV/valid/labels | wc -l"
      ]
    },
    {
      "cell_type": "code",
      "execution_count": null,
      "metadata": {
        "id": "jw1kKCbyE5PO"
      },
      "outputs": [],
      "source": [
        "def moveFiles(src, dst):\n",
        "  files = []\n",
        "  for i in os.listdir(src):\n",
        "    files.append(i)\n",
        "  files = sorted(files)\n",
        "  listt = np.random.RandomState(seed=12).permutation(files)[:300]\n",
        "  for f in listt:\n",
        "    shutil.copy(os.path.join(src, f), dst)\n",
        "    p = os.path.join(src, f)\n",
        "    os.remove(p)\n",
        "moveFiles(\"LPCV3/train/images\", \"LPCV3/valid/images\")\n",
        "moveFiles(\"LPCV3/train/labels\", \"LPCV3/valid/labels\")"
      ]
    },
    {
      "cell_type": "markdown",
      "metadata": {
        "id": "CNi9_unNPKNv"
      },
      "source": [
        "#The next cell can be used to train the model, adjust parameters as desired"
      ]
    },
    {
      "cell_type": "code",
      "execution_count": null,
      "metadata": {
        "colab": {
          "base_uri": "https://localhost:8080/"
        },
        "id": "x_ZLeqQuGWTI",
        "outputId": "d2810070-6bd7-49b0-fc4d-92b35af7f6d0"
      },
      "outputs": [],
      "source": [
        "!python train.py --batch 50 --img 320 --data data.yaml --project modified --freeze 1 3 5 7 9 --changes 2,4,6,8,13 --cfg ./models/yolov5s.yaml --weights yolov5s.pt --hyp data/hyps/hyp.finetune.yaml "
      ]
    },
    {
      "cell_type": "markdown",
      "metadata": {},
      "source": [
        "#The next cell can be used to test the model"
      ]
    },
    {
      "cell_type": "code",
      "execution_count": null,
      "metadata": {},
      "outputs": [],
      "source": [
        "!python val.py --weights modified/train/exp/weights/best.tflite --img 320 --data data.yaml"
      ]
    }
  ],
  "metadata": {
    "accelerator": "GPU",
    "colab": {
      "collapsed_sections": [
        "tqSXKg30PYzD",
        "pUu8iBTr05R_",
        "m952YYfPVvKo",
        "yRiePnn8EeK3",
        "CNi9_unNPKNv"
      ],
      "machine_shape": "hm",
      "name": "SeniorDesignYolov5.ipynb",
      "provenance": []
    },
    "kernelspec": {
      "display_name": "Python 3",
      "name": "python3"
    },
    "language_info": {
      "name": "python"
    }
  },
  "nbformat": 4,
  "nbformat_minor": 0
}
