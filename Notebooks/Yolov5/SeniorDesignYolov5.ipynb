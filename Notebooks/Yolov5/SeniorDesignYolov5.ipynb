{
  "nbformat": 4,
  "nbformat_minor": 0,
  "metadata": {
    "accelerator": "GPU",
    "colab": {
      "name": "SeniorDesignYolov5.ipynb",
      "provenance": [],
      "collapsed_sections": [],
      "machine_shape": "hm"
    },
    "kernelspec": {
      "display_name": "Python 3",
      "name": "python3"
    },
    "language_info": {
      "name": "python"
    }
  },
  "cells": [
    {
      "cell_type": "code",
      "metadata": {
        "id": "EW1cE9kAVttk"
      },
      "source": [
        "!git clone https://github.com/ultralytics/yolov5\n",
        "%cd yolov5\n",
        "!pip install -r requirements.txt\n",
        "\n",
        "import pathlib\n",
        "import os\n",
        "import cv2\n",
        "import zipfile\n",
        "from os import path\n",
        "import shutil\n",
        "import csv\n",
        "import random\n",
        "import numpy as np"
      ],
      "execution_count": null,
      "outputs": []
    },
    {
      "cell_type": "markdown",
      "metadata": {
        "id": "pUu8iBTr05R_"
      },
      "source": [
        "# The next few cells can be used to download and train on LPCV Data Directly\n",
        "# You must upload all LPCV M4V and CSV files to create the dataset"
      ]
    },
    {
      "cell_type": "code",
      "metadata": {
        "id": "YPJhOAlzBj69"
      },
      "source": [
        "%mkdir LPCV\n",
        "%cd LPCV\n",
        "%mkdir images\n",
        "%mkdir labels\n",
        "%mkdir test\n",
        "%mkdir valid/images\n",
        "%mkdir valid/labels\n",
        "%mkdir train\n",
        "%mkdir train/images\n",
        "%mkdir train/labels\n",
        "%cd .."
      ],
      "execution_count": null,
      "outputs": []
    },
    {
      "cell_type": "code",
      "metadata": {
        "id": "ZDV2lp94A7bI"
      },
      "source": [
        "def capture_frames(video, variety):\n",
        "  vidcap = cv2.VideoCapture(video)\n",
        "  success,image = vidcap.read()\n",
        "  count = 0\n",
        "  while success:\n",
        "    cv2.imwrite(\"LPCV/images/{}_frame{}.jpg\".format(variety,count), image)     # save frame as JPEG file      \n",
        "    success,image = vidcap.read()\n",
        "    count += 1\n",
        "  print(\"Finished Reading \" + video)"
      ],
      "execution_count": 90,
      "outputs": []
    },
    {
      "cell_type": "code",
      "metadata": {
        "id": "ZCl60JNDDwCY"
      },
      "source": [
        "def create_labels(video_csv, variety):\n",
        "  with open(video_csv, newline='') as csvfile:\n",
        "    csv_reader = csv.reader(csvfile)\n",
        "    yolo_labels = []\n",
        "    for row in csv_reader:\n",
        "      frame = row[0]\n",
        "      if row[0] == \"Frame\":\n",
        "        continue\n",
        "      else:\n",
        "        with open(\"LPCV/labels/\"+variety+\"_frame\" + str(frame) + \".txt\", \"a\") as yololabelfile:\n",
        "          yoloarray = row\n",
        "          del yoloarray[2:3]\n",
        "          del yoloarray[0:1]\n",
        "          for item in yoloarray:\n",
        "            yololabelfile.write(\"%s \" % item)\n",
        "          yololabelfile.write(\"\\n\")"
      ],
      "execution_count": 97,
      "outputs": []
    },
    {
      "cell_type": "code",
      "metadata": {
        "id": "HN-3odZ3B08j"
      },
      "source": [
        "capture_frames('4p1b_01A2.m4v','4p1b')\n",
        "capture_frames('5p2b_01A1.m4v','5p2b')\n",
        "capture_frames('5p4b_01A2.m4v','5p4b')\n",
        "capture_frames('5p5b_03A1.m4v','5p5b')\n",
        "capture_frames('7p3b_02M.m4v','7p3b')"
      ],
      "execution_count": null,
      "outputs": []
    },
    {
      "cell_type": "code",
      "metadata": {
        "id": "zhQMrqupC-Ed"
      },
      "source": [
        "create_labels('4p1b_01A2.csv','4p1b')\n",
        "create_labels('5p2b_01A1.csv','5p2b')\n",
        "create_labels('5p4b_01A2.csv','5p4b')\n",
        "create_labels('5p5b_03A1.csv','5p5b')\n",
        "create_labels('7p3b_02M.csv','7p3b')"
      ],
      "execution_count": 98,
      "outputs": []
    },
    {
      "cell_type": "code",
      "metadata": {
        "id": "9h4bqrTqv1EV"
      },
      "source": [
        "from tensorflow import keras\n",
        "import tensorflow_datasets as tfds\n",
        "%matplotlib inline\n",
        "import matplotlib.pyplot as plt\n",
        "import matplotlib.image as mpimg\n",
        "\n",
        "import os\n",
        "import tensorflow as tf\n",
        "import numpy as np\n",
        "import glob\n",
        "from shutil import copyfile\n",
        "from PIL import Image"
      ],
      "execution_count": 48,
      "outputs": []
    },
    {
      "cell_type": "code",
      "metadata": {
        "id": "bVfbCkOFxr4A"
      },
      "source": [
        "%rm -r LPCV/train/labels\n",
        "%mkdir LPCV/train/labels\n",
        "%rm -r LPCV/train/images\n",
        "%mkdir LPCV/train/images"
      ],
      "execution_count": 70,
      "outputs": []
    },
    {
      "cell_type": "code",
      "metadata": {
        "id": "1fWTjgO-uKhw"
      },
      "source": [
        "for root, dirs, files in os.walk('LPCV/labels/', topdown=False):\n",
        "    for filename in files:\n",
        "      num = filename[10:filename.find(\".\")]\n",
        "      name = filename[:10]\n",
        "      video_file = name+num+\".jpg\"\n",
        "      copyfile('LPCV/labels/'+filename, 'LPCV/train/labels/'+filename)\n",
        "      copyfile('LPCV/images/'+video_file, 'LPCV/train/images/'+video_file)"
      ],
      "execution_count": 102,
      "outputs": []
    },
    {
      "cell_type": "markdown",
      "metadata": {
        "id": "m952YYfPVvKo"
      },
      "source": [
        "#To save LPCV image and labels, zip and download the LPCV folder at this point. In the future the folder can be uploaded and the above cells are uneccessary"
      ]
    },
    {
      "cell_type": "code",
      "metadata": {
        "id": "25xA556wy8uZ"
      },
      "source": [
        "def contrast_image(image, new_image, folder):\n",
        "    img = Image.open(folder+'/images/'+image)\n",
        "    img = np.array(img)\n",
        "    img = tf.image.random_contrast(img, 2, 5, 42)\n",
        "    img = img.numpy()\n",
        "    im = Image.fromarray(img)\n",
        "    im.save(folder+'/images/'+new_image)\n",
        "    copy_label(image, \"contrast\", folder)\n",
        "def noise_image(image, new_image, folder):\n",
        "    img = Image.open(folder+'/images/'+image)\n",
        "    img = np.array(img)\n",
        "    img = tf.image.stateless_random_jpeg_quality(img, 2, 20, (42,42))\n",
        "    img = img.numpy()\n",
        "    im = Image.fromarray(img)\n",
        "    im.save(folder+'/images/'+new_image)\n",
        "    copy_label(image, \"noise\", folder)\n",
        "def grayscale_image(image, new_image, folder):\n",
        "    img = Image.open(folder+'/images/'+image)\n",
        "    img = np.array(img)\n",
        "    img = tf.image.rgb_to_grayscale(img)\n",
        "    img = img.numpy()\n",
        "    img = img.reshape((img.shape[0], img.shape[1]))\n",
        "    im = Image.fromarray(img, 'L')\n",
        "    im.save(folder+'/images/'+new_image)\n",
        "    copy_label(image, \"grayscale\", folder)\n",
        "def flip_image_lr(image, new_image, folder):\n",
        "    img = Image.open(folder+'/images/'+image)\n",
        "    img = np.array(img)\n",
        "    img = tf.image.flip_left_right(img)\n",
        "    img = img.numpy()\n",
        "    im = Image.fromarray(img)\n",
        "    im.save(folder+'/images/'+new_image)\n",
        "    flip_label_lr(image[:image.find('.')]+\".txt\", image[:image.find('.')]+\"_flip_lr.txt\", folder)\n",
        "def flip_image_ud(image, new_image, folder):\n",
        "    img = Image.open(folder+'/images/'+image)\n",
        "    img = np.array(img)\n",
        "    img = tf.image.flip_up_down(img)\n",
        "    img = img.numpy()\n",
        "    im = Image.fromarray(img)\n",
        "    im.save(folder+'/images/'+new_image)\n",
        "    flip_label_ud(image[:image.find('.')]+\".txt\", image[:image.find('.')]+\"_flip_ud.txt\", folder)\n",
        "def flip_label_lr(label_file, new_label_file, folder):\n",
        "    label_file = folder+\"/labels/\"+label_file\n",
        "    new_label_file = folder+\"/labels/\"+new_label_file\n",
        "    with open(label_file) as f:\n",
        "        lines = f.readlines()\n",
        "        new_lines = []\n",
        "        for x in lines:\n",
        "            words = x.split(\" \")\n",
        "            words[1] = str(1-float(words[1]))\n",
        "            new_lines.append(\" \".join(words))\n",
        "    f.close()\n",
        "    with open(new_label_file, 'w') as f:\n",
        "        for x in new_lines:\n",
        "            f.write(x)\n",
        "def flip_label_ud(label_file, new_label_file, folder):\n",
        "    label_file = folder+\"/labels/\"+label_file\n",
        "    new_label_file = folder+\"/labels/\"+new_label_file\n",
        "    with open(label_file) as f:\n",
        "        lines = f.readlines()\n",
        "        new_lines = []\n",
        "        for x in lines:\n",
        "            words = x.split(\" \")\n",
        "            words[2] = str(1-float(words[2]))\n",
        "            new_lines.append(\" \".join(words))\n",
        "    f.close()\n",
        "    with open(new_label_file, 'w') as f:\n",
        "        for x in new_lines:\n",
        "            f.write(x)\n",
        "def copy_label(image, augmentation, folder):\n",
        "    filename = image[:image.find('.')]\n",
        "    new_filename = folder+'/labels/'+filename+'_'+augmentation+'.txt'\n",
        "    filename = folder+'/labels/'+filename+'.txt'\n",
        "    copyfile(filename, new_filename)"
      ],
      "execution_count": 63,
      "outputs": []
    },
    {
      "cell_type": "code",
      "metadata": {
        "id": "xAd0zgmGzL6B"
      },
      "source": [
        "aug_list = ['_contrast', '_noise', '_grayscale', '_flip_lr', '_flip_ud']\n",
        "data_dir = \"./LPCV/train\""
      ],
      "execution_count": 72,
      "outputs": []
    },
    {
      "cell_type": "code",
      "metadata": {
        "id": "5x_exOYUzPrL"
      },
      "source": [
        "for root, dirs, files in os.walk(data_dir+'/images/', topdown=False):\n",
        "    for file in files:\n",
        "      count = 0\n",
        "      for j in aug_list:\n",
        "        filename = file[:file.find('.')]+j+file[file.find('.'):]\n",
        "        if count==0: contrast_image(file, filename, data_dir)\n",
        "        if count==1: noise_image(file,filename, data_dir)\n",
        "        if count==2: grayscale_image(file, filename, data_dir)\n",
        "        if count==3: flip_image_lr(file, filename, data_dir)\n",
        "        if count==4: flip_image_ud(file, filename, data_dir)\n",
        "        count+=1"
      ],
      "execution_count": 104,
      "outputs": []
    },
    {
      "cell_type": "code",
      "metadata": {
        "id": "w8qCdzcr5dK-"
      },
      "source": [
        "def moveFiles(src, dst):\n",
        "  files = []\n",
        "  for i in os.listdir(src):\n",
        "    files.append(i)\n",
        "  files = sorted(files)\n",
        "  listt = np.random.RandomState(seed=42).permutation(files)[:30]\n",
        "  for f in listt:\n",
        "    shutil.copy(os.path.join(src, f), dst)\n",
        "    p = os.path.join(src, f)\n",
        "    os.remove(p)"
      ],
      "execution_count": 110,
      "outputs": []
    },
    {
      "cell_type": "code",
      "metadata": {
        "id": "ib6rOkLo5iZW"
      },
      "source": [
        "moveFiles(\"LPCV/train/images\", \"LPCV/valid/images\")\n",
        "moveFiles(\"LPCV/train/labels\", \"LPCV/valid/labels\")"
      ],
      "execution_count": 112,
      "outputs": []
    },
    {
      "cell_type": "code",
      "metadata": {
        "id": "0RKp4YPe53E0"
      },
      "source": [
        "data = open(\"data.yaml\", \"w\")\n",
        "data.write(\"train: ./LPCV/train/images\\nval: ./LPCV/valid/images\\nnc: 2\\nnames: [\\'person\\', \\'sports-ball\\']\")\n",
        "data.close()"
      ],
      "execution_count": 113,
      "outputs": []
    },
    {
      "cell_type": "code",
      "metadata": {
        "id": "htfcx4trJq4V"
      },
      "source": [
        "!python train.py --img 416 --batch 50 --epochs 10 --data ./data.yaml --weights yolov5s.pt"
      ],
      "execution_count": null,
      "outputs": []
    },
    {
      "cell_type": "code",
      "metadata": {
        "id": "6X2PXMAefeSY"
      },
      "source": [
        " !python detect.py --weights runs/train/exp/weights/best.pt --img 640 --conf 0.05 --source 5p5b_03A1.m4v"
      ],
      "execution_count": null,
      "outputs": []
    }
  ]
}