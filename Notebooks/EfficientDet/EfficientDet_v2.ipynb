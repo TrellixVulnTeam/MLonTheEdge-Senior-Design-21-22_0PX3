{
  "nbformat": 4,
  "nbformat_minor": 0,
  "metadata": {
    "colab": {
      "name": "EfficientDet-v2",
      "provenance": [],
      "collapsed_sections": []
    },
    "kernelspec": {
      "name": "python3",
      "display_name": "Python 3"
    },
    "accelerator": "GPU"
  },
  "cells": [
    {
      "cell_type": "markdown",
      "metadata": {
        "id": "8SJBVVCyvObX"
      },
      "source": [
        "# Setup"
      ]
    },
    {
      "cell_type": "code",
      "metadata": {
        "id": "X2EDGrtsba1E",
        "colab": {
          "base_uri": "https://localhost:8080/"
        },
        "outputId": "0deaaf03-eeda-4b48-a106-22ecd98229bd"
      },
      "source": [
        "! git clone https://github.com/roboflow-ai/Monk_Object_Detection.git"
      ],
      "execution_count": null,
      "outputs": [
        {
          "output_type": "stream",
          "name": "stdout",
          "text": [
            "Cloning into 'Monk_Object_Detection'...\n",
            "remote: Enumerating objects: 3747, done.\u001b[K\n",
            "remote: Total 3747 (delta 0), reused 0 (delta 0), pack-reused 3747\u001b[K\n",
            "Receiving objects: 100% (3747/3747), 132.20 MiB | 21.91 MiB/s, done.\n",
            "Resolving deltas: 100% (800/800), done.\n",
            "Checking out files: 100% (4032/4032), done.\n"
          ]
        }
      ]
    },
    {
      "cell_type": "code",
      "metadata": {
        "id": "EIu1PTPlcAuU",
        "colab": {
          "base_uri": "https://localhost:8080/"
        },
        "outputId": "059dedb0-20ae-4a24-8d3c-1f97669fd5ab"
      },
      "source": [
        "! cd Monk_Object_Detection/3_mxrcnn/installation && cat requirements_colab.txt | xargs -n 1 -L 1 pip install"
      ],
      "execution_count": null,
      "outputs": [
        {
          "output_type": "stream",
          "name": "stdout",
          "text": [
            "Collecting mxnet-cu100\n",
            "  Downloading mxnet_cu100-1.8.0.post0-py2.py3-none-manylinux2014_x86_64.whl (352.6 MB)\n",
            "\u001b[K     |████████████████████████████████| 352.6 MB 12 kB/s \n",
            "\u001b[?25hCollecting graphviz<0.9.0,>=0.8.1\n",
            "  Downloading graphviz-0.8.4-py2.py3-none-any.whl (16 kB)\n",
            "Requirement already satisfied: numpy<2.0.0,>1.16.0 in /usr/local/lib/python3.7/dist-packages (from mxnet-cu100) (1.19.5)\n",
            "Requirement already satisfied: requests<3,>=2.20.0 in /usr/local/lib/python3.7/dist-packages (from mxnet-cu100) (2.23.0)\n",
            "Requirement already satisfied: idna<3,>=2.5 in /usr/local/lib/python3.7/dist-packages (from requests<3,>=2.20.0->mxnet-cu100) (2.10)\n",
            "Requirement already satisfied: chardet<4,>=3.0.2 in /usr/local/lib/python3.7/dist-packages (from requests<3,>=2.20.0->mxnet-cu100) (3.0.4)\n",
            "Requirement already satisfied: urllib3!=1.25.0,!=1.25.1,<1.26,>=1.21.1 in /usr/local/lib/python3.7/dist-packages (from requests<3,>=2.20.0->mxnet-cu100) (1.24.3)\n",
            "Requirement already satisfied: certifi>=2017.4.17 in /usr/local/lib/python3.7/dist-packages (from requests<3,>=2.20.0->mxnet-cu100) (2021.5.30)\n",
            "Installing collected packages: graphviz, mxnet-cu100\n",
            "  Attempting uninstall: graphviz\n",
            "    Found existing installation: graphviz 0.10.1\n",
            "    Uninstalling graphviz-0.10.1:\n",
            "      Successfully uninstalled graphviz-0.10.1\n",
            "Successfully installed graphviz-0.8.4 mxnet-cu100-1.8.0.post0\n",
            "Collecting dicttoxml\n",
            "  Downloading dicttoxml-1.7.4.tar.gz (18 kB)\n",
            "Building wheels for collected packages: dicttoxml\n",
            "  Building wheel for dicttoxml (setup.py) ... \u001b[?25l\u001b[?25hdone\n",
            "  Created wheel for dicttoxml: filename=dicttoxml-1.7.4-py3-none-any.whl size=17463 sha256=57fda2551b1100aee1492afef92a2c234f1acfd047315e7eaa766c9ef77f286c\n",
            "  Stored in directory: /root/.cache/pip/wheels/18/44/5a/c7b93703f611ae3b50820efbaf265413e6b183a56cbec6f661\n",
            "Successfully built dicttoxml\n",
            "Installing collected packages: dicttoxml\n",
            "Successfully installed dicttoxml-1.7.4\n",
            "Collecting xmltodict\n",
            "  Downloading xmltodict-0.12.0-py2.py3-none-any.whl (9.2 kB)\n",
            "Installing collected packages: xmltodict\n",
            "Successfully installed xmltodict-0.12.0\n",
            "Collecting pycocotools\n",
            "  Cloning https://github.com/abhi-kumar/cocoapi.git to /tmp/pip-install-j701rrrz/pycocotools_b51f6920ca2e4035ace499ae75557b23\n",
            "  Running command git clone -q https://github.com/abhi-kumar/cocoapi.git /tmp/pip-install-j701rrrz/pycocotools_b51f6920ca2e4035ace499ae75557b23\n",
            "Requirement already satisfied: setuptools>=18.0 in /usr/local/lib/python3.7/dist-packages (from pycocotools) (57.4.0)\n",
            "Requirement already satisfied: cython>=0.27.3 in /usr/local/lib/python3.7/dist-packages (from pycocotools) (0.29.24)\n",
            "Requirement already satisfied: matplotlib>=2.1.0 in /usr/local/lib/python3.7/dist-packages (from pycocotools) (3.2.2)\n",
            "Requirement already satisfied: cycler>=0.10 in /usr/local/lib/python3.7/dist-packages (from matplotlib>=2.1.0->pycocotools) (0.10.0)\n",
            "Requirement already satisfied: numpy>=1.11 in /usr/local/lib/python3.7/dist-packages (from matplotlib>=2.1.0->pycocotools) (1.19.5)\n",
            "Requirement already satisfied: kiwisolver>=1.0.1 in /usr/local/lib/python3.7/dist-packages (from matplotlib>=2.1.0->pycocotools) (1.3.2)\n",
            "Requirement already satisfied: pyparsing!=2.0.4,!=2.1.2,!=2.1.6,>=2.0.1 in /usr/local/lib/python3.7/dist-packages (from matplotlib>=2.1.0->pycocotools) (2.4.7)\n",
            "Requirement already satisfied: python-dateutil>=2.1 in /usr/local/lib/python3.7/dist-packages (from matplotlib>=2.1.0->pycocotools) (2.8.2)\n",
            "Requirement already satisfied: six in /usr/local/lib/python3.7/dist-packages (from cycler>=0.10->matplotlib>=2.1.0->pycocotools) (1.15.0)\n",
            "Building wheels for collected packages: pycocotools\n",
            "  Building wheel for pycocotools (setup.py) ... \u001b[?25l\u001b[?25hdone\n",
            "  Created wheel for pycocotools: filename=pycocotools-2.0-cp37-cp37m-linux_x86_64.whl size=263851 sha256=a5dd0f2e67239edffd92e8b6328ff730ba32b5e29af05fae4cd030a07ff411b4\n",
            "  Stored in directory: /tmp/pip-ephem-wheel-cache-v1p2c4h5/wheels/b8/4c/a6/f34b4aa3f634b4461fc1934f6d1dedf20df540f6a028547647\n",
            "Successfully built pycocotools\n",
            "Installing collected packages: pycocotools\n",
            "  Attempting uninstall: pycocotools\n",
            "    Found existing installation: pycocotools 2.0.2\n",
            "    Uninstalling pycocotools-2.0.2:\n",
            "      Successfully uninstalled pycocotools-2.0.2\n",
            "Successfully installed pycocotools-2.0\n"
          ]
        }
      ]
    },
    {
      "cell_type": "code",
      "metadata": {
        "id": "N2YxNg_6ftEC",
        "colab": {
          "base_uri": "https://localhost:8080/"
        },
        "outputId": "bfc7c4e6-3d3b-43b8-d84d-4ae27f98e341"
      },
      "source": [
        "!pip install --force https://github.com/chengs/tqdm/archive/colab.zip\n",
        "\n",
        "!pip install efficientnet_pytorch\n",
        "!pip install tensorboardX"
      ],
      "execution_count": null,
      "outputs": [
        {
          "output_type": "stream",
          "name": "stdout",
          "text": [
            "Collecting https://github.com/chengs/tqdm/archive/colab.zip\n",
            "  Downloading https://github.com/chengs/tqdm/archive/colab.zip\n",
            "\u001b[K     | 91 kB 772 kB/s\n",
            "\u001b[?25hBuilding wheels for collected packages: tqdm\n",
            "  Building wheel for tqdm (setup.py) ... \u001b[?25l\u001b[?25hdone\n",
            "  Created wheel for tqdm: filename=tqdm-4.28.1-py2.py3-none-any.whl size=47878 sha256=947daa7ba915e787ee527f07ed4b6daf211b3dcb532a3f770860314e0c50897e\n",
            "  Stored in directory: /tmp/pip-ephem-wheel-cache-rbal0zve/wheels/b5/36/d9/593e7ac06d343d0a32138fa6c402dc3a0bd31442c9fe53f76c\n",
            "Successfully built tqdm\n",
            "Installing collected packages: tqdm\n",
            "  Attempting uninstall: tqdm\n",
            "    Found existing installation: tqdm 4.62.3\n",
            "    Uninstalling tqdm-4.62.3:\n",
            "      Successfully uninstalled tqdm-4.62.3\n",
            "\u001b[31mERROR: pip's dependency resolver does not currently take into account all the packages that are installed. This behaviour is the source of the following dependency conflicts.\n",
            "spacy 2.2.4 requires tqdm<5.0.0,>=4.38.0, but you have tqdm 4.28.1 which is incompatible.\n",
            "panel 0.12.1 requires tqdm>=4.48.0, but you have tqdm 4.28.1 which is incompatible.\n",
            "fbprophet 0.7.1 requires tqdm>=4.36.1, but you have tqdm 4.28.1 which is incompatible.\u001b[0m\n",
            "Successfully installed tqdm-4.28.1\n",
            "Collecting efficientnet_pytorch\n",
            "  Downloading efficientnet_pytorch-0.7.1.tar.gz (21 kB)\n",
            "Requirement already satisfied: torch in /usr/local/lib/python3.7/dist-packages (from efficientnet_pytorch) (1.9.0+cu111)\n",
            "Requirement already satisfied: typing-extensions in /usr/local/lib/python3.7/dist-packages (from torch->efficientnet_pytorch) (3.7.4.3)\n",
            "Building wheels for collected packages: efficientnet-pytorch\n",
            "  Building wheel for efficientnet-pytorch (setup.py) ... \u001b[?25l\u001b[?25hdone\n",
            "  Created wheel for efficientnet-pytorch: filename=efficientnet_pytorch-0.7.1-py3-none-any.whl size=16446 sha256=91a1929100e4df1c4f768779a8599b32c7a1ebae41cf12aa5b2fea5777aef5d4\n",
            "  Stored in directory: /root/.cache/pip/wheels/0e/cc/b2/49e74588263573ff778da58cc99b9c6349b496636a7e165be6\n",
            "Successfully built efficientnet-pytorch\n",
            "Installing collected packages: efficientnet-pytorch\n",
            "Successfully installed efficientnet-pytorch-0.7.1\n",
            "Collecting tensorboardX\n",
            "  Downloading tensorboardX-2.4-py2.py3-none-any.whl (124 kB)\n",
            "\u001b[K     |████████████████████████████████| 124 kB 4.2 MB/s \n",
            "\u001b[?25hRequirement already satisfied: protobuf>=3.8.0 in /usr/local/lib/python3.7/dist-packages (from tensorboardX) (3.17.3)\n",
            "Requirement already satisfied: numpy in /usr/local/lib/python3.7/dist-packages (from tensorboardX) (1.19.5)\n",
            "Requirement already satisfied: six>=1.9 in /usr/local/lib/python3.7/dist-packages (from protobuf>=3.8.0->tensorboardX) (1.15.0)\n",
            "Installing collected packages: tensorboardX\n",
            "Successfully installed tensorboardX-2.4\n"
          ]
        }
      ]
    },
    {
      "cell_type": "markdown",
      "metadata": {
        "id": "8PdgWcjbc0hj"
      },
      "source": [
        "#Get that Data"
      ]
    },
    {
      "cell_type": "code",
      "metadata": {
        "id": "QK73cnbNcMey",
        "colab": {
          "base_uri": "https://localhost:8080/"
        },
        "outputId": "1cfb5f3b-6280-444c-921a-b3494241df90"
      },
      "source": [
        "!curl -L https://app.roboflow.com/ds/EA3c6y2zBG?key=e4hVm3MFqa > roboflow.zip; unzip roboflow.zip; rm roboflow.zip"
      ],
      "execution_count": null,
      "outputs": [
        {
          "output_type": "stream",
          "name": "stdout",
          "text": [
            "  % Total    % Received % Xferd  Average Speed   Time    Time     Time  Current\n",
            "                                 Dload  Upload   Total   Spent    Left  Speed\n",
            "100   879  100   879    0     0    775      0  0:00:01  0:00:01 --:--:--   775\n",
            "100 14.7M  100 14.7M    0     0  4787k      0  0:00:03  0:00:03 --:--:-- 17.9M\n",
            "Archive:  roboflow.zip\n",
            " extracting: README.dataset.txt      \n",
            " extracting: README.roboflow.txt     \n",
            "   creating: test/\n",
            " extracting: test/5p5b_03A1_mp4-105_jpg.rf.d3a3c3404562ea74a373f9054fb5b8a9.jpg  \n",
            " extracting: test/5p5b_03A1_mp4-112_jpg.rf.381ca0419c88a0d5131680d20fcd824a.jpg  \n",
            " extracting: test/5p5b_03A1_mp4-14_jpg.rf.5651279843abc55dd0bca89eec141af9.jpg  \n",
            " extracting: test/5p5b_03A1_mp4-17_jpg.rf.8eddb36c13589d3f60462e910cc92e4b.jpg  \n",
            " extracting: test/5p5b_03A1_mp4-27_jpg.rf.461f013d87ef575fc4e7459224cc820c.jpg  \n",
            " extracting: test/5p5b_03A1_mp4-44_jpg.rf.462e8a14fc6513aeeaad483824a02fb7.jpg  \n",
            " extracting: test/5p5b_03A1_mp4-57_jpg.rf.3bed6def8e334ca7a5da5d91a07b0bcf.jpg  \n",
            " extracting: test/5p5b_03A1_mp4-64_jpg.rf.1f1c018321289e9b3b89476e5103414c.jpg  \n",
            " extracting: test/5p5b_03A1_mp4-73_jpg.rf.adf2c376bff5f5b81d3ae82f746e2a3c.jpg  \n",
            " extracting: test/5p5b_03A1_mp4-82_jpg.rf.39a881e47a0fba382b9db0b0fe466127.jpg  \n",
            " extracting: test/_annotations.coco.json  \n",
            "   creating: train/\n",
            " extracting: train/5p5b_03A1_mp4-0_jpg.rf.2937acc73031d479874974509b6b845e.jpg  \n",
            " extracting: train/5p5b_03A1_mp4-0_jpg.rf.3c8ca59a747d93131c7b4435ec87a977.jpg  \n",
            " extracting: train/5p5b_03A1_mp4-0_jpg.rf.8e74e5f2760d4445ae14ea5126fcd203.jpg  \n",
            " extracting: train/5p5b_03A1_mp4-100_jpg.rf.5a0cea4616c0c84e1e417d4759318584.jpg  \n",
            " extracting: train/5p5b_03A1_mp4-100_jpg.rf.cb82af905c714c66749ace366ee7acb8.jpg  \n",
            " extracting: train/5p5b_03A1_mp4-100_jpg.rf.ef405bd3d509b46b81ffe9752c985c62.jpg  \n",
            " extracting: train/5p5b_03A1_mp4-102_jpg.rf.808480d40945855a40c576013986ff63.jpg  \n",
            " extracting: train/5p5b_03A1_mp4-102_jpg.rf.a2c8168f69adc4e24702e5332c7694a2.jpg  \n",
            " extracting: train/5p5b_03A1_mp4-102_jpg.rf.bb13c3bc9b63b7745feba4d1cf3cbea8.jpg  \n",
            " extracting: train/5p5b_03A1_mp4-103_jpg.rf.21106faccaadfd89673d42060eae1012.jpg  \n",
            " extracting: train/5p5b_03A1_mp4-103_jpg.rf.26fdebefd2bf6bc482c888579b6ceb07.jpg  \n",
            " extracting: train/5p5b_03A1_mp4-103_jpg.rf.391839bf2272d50a816bb0a4eea14e59.jpg  \n",
            " extracting: train/5p5b_03A1_mp4-106_jpg.rf.11c1a3ab4e48d4a0adc562e2a3cf4965.jpg  \n",
            " extracting: train/5p5b_03A1_mp4-106_jpg.rf.4a2771cb4b04a7710cc4209125f5bc85.jpg  \n",
            " extracting: train/5p5b_03A1_mp4-106_jpg.rf.c9bbfabf8d0a1754908010c412b1eeb4.jpg  \n",
            " extracting: train/5p5b_03A1_mp4-107_jpg.rf.21cfaf296c0036f88c486c32dd71eac0.jpg  \n",
            " extracting: train/5p5b_03A1_mp4-107_jpg.rf.5b8c65ae3743aa4f22c2e9c004fc8486.jpg  \n",
            " extracting: train/5p5b_03A1_mp4-107_jpg.rf.6105e3c24a41cb4b41c99d5fda8e3317.jpg  \n",
            " extracting: train/5p5b_03A1_mp4-108_jpg.rf.3c9f5ad4e896598819090a2d39046479.jpg  \n",
            " extracting: train/5p5b_03A1_mp4-108_jpg.rf.617d4e5c45fa12dd4cc0a50d9b078d48.jpg  \n",
            " extracting: train/5p5b_03A1_mp4-108_jpg.rf.7533ec88d8b0e14e73d1e82b71373b01.jpg  \n",
            " extracting: train/5p5b_03A1_mp4-10_jpg.rf.0c4ae56a058df98b6493c0a4d2d545ff.jpg  \n",
            " extracting: train/5p5b_03A1_mp4-10_jpg.rf.2116de962a0570da7f8cb2203bd4bf1b.jpg  \n",
            " extracting: train/5p5b_03A1_mp4-10_jpg.rf.2687d8fd76961f5b83f985dc73336741.jpg  \n",
            " extracting: train/5p5b_03A1_mp4-110_jpg.rf.00a4dad1d85f10934146249de413a2d5.jpg  \n",
            " extracting: train/5p5b_03A1_mp4-110_jpg.rf.bc060162216cc9f09fa315a7eca8ee42.jpg  \n",
            " extracting: train/5p5b_03A1_mp4-110_jpg.rf.f676957089dc81aecbe82663f3254b2c.jpg  \n",
            " extracting: train/5p5b_03A1_mp4-11_jpg.rf.1980a6d128c31cc5aeb32639b89a8ca2.jpg  \n",
            " extracting: train/5p5b_03A1_mp4-11_jpg.rf.8e93c01e03663c5e3f9cc9d2fb41c276.jpg  \n",
            " extracting: train/5p5b_03A1_mp4-11_jpg.rf.f3055b7bfb534434127a2c6edfe37c20.jpg  \n",
            " extracting: train/5p5b_03A1_mp4-122_jpg.rf.54a46012073b7995cb2aaa36b7830032.jpg  \n",
            " extracting: train/5p5b_03A1_mp4-122_jpg.rf.7deccd02a9cda644bdc1b07c2b6ea616.jpg  \n",
            " extracting: train/5p5b_03A1_mp4-122_jpg.rf.a82375a1e009140e8e5159cb36624169.jpg  \n",
            " extracting: train/5p5b_03A1_mp4-123_jpg.rf.177540d518b06f5ea7c970c18638e7e3.jpg  \n",
            " extracting: train/5p5b_03A1_mp4-123_jpg.rf.206c7a3fcdfa1c12354f56fd9a394be2.jpg  \n",
            " extracting: train/5p5b_03A1_mp4-123_jpg.rf.8e91af1ca252922b1544a06ae7e0e2ac.jpg  \n",
            " extracting: train/5p5b_03A1_mp4-130_jpg.rf.a764b67a2cccc097ef7aadf29b3a13f2.jpg  \n",
            " extracting: train/5p5b_03A1_mp4-130_jpg.rf.b991c814f38e78ba31c1dba6643f0719.jpg  \n",
            " extracting: train/5p5b_03A1_mp4-130_jpg.rf.ddaf8dbe7b95022bb015ce5c88e220b9.jpg  \n",
            " extracting: train/5p5b_03A1_mp4-132_jpg.rf.869ae12d96ef38b2d546e3566deea000.jpg  \n",
            " extracting: train/5p5b_03A1_mp4-132_jpg.rf.c2cef5b9cd12de9ea4fa1ee35550b4e5.jpg  \n",
            " extracting: train/5p5b_03A1_mp4-132_jpg.rf.eadb8948d8720074e440dcf8b7bb43ac.jpg  \n",
            " extracting: train/5p5b_03A1_mp4-134_jpg.rf.f62640cf8123544a8f296e5ed6521097.jpg  \n",
            " extracting: train/5p5b_03A1_mp4-134_jpg.rf.fd25aa7d8460523ffd3b2e971b564ec9.jpg  \n",
            " extracting: train/5p5b_03A1_mp4-134_jpg.rf.ff55fc49d678b768fce145eb6e4d7be9.jpg  \n",
            " extracting: train/5p5b_03A1_mp4-136_jpg.rf.8e5b1e092f2f7ce6100c406afce94500.jpg  \n",
            " extracting: train/5p5b_03A1_mp4-136_jpg.rf.ae0ee3f7c2eaa136b96dc5029dbbba29.jpg  \n",
            " extracting: train/5p5b_03A1_mp4-136_jpg.rf.d47cee3b452bac3d3aefeb0305655b71.jpg  \n",
            " extracting: train/5p5b_03A1_mp4-138_jpg.rf.69bdb737efa478da80bfcaa71b4140df.jpg  \n",
            " extracting: train/5p5b_03A1_mp4-138_jpg.rf.9980b2c9cabd5180c999bca94b2fe3f2.jpg  \n",
            " extracting: train/5p5b_03A1_mp4-138_jpg.rf.d0312fc1c1f1c47f636107421fdb45a6.jpg  \n",
            " extracting: train/5p5b_03A1_mp4-13_jpg.rf.2b73a288dcd037a02cc24034c4031a35.jpg  \n",
            " extracting: train/5p5b_03A1_mp4-13_jpg.rf.77426f59afde9ab00e785ffe6c68455f.jpg  \n",
            " extracting: train/5p5b_03A1_mp4-13_jpg.rf.c0605dc545bfd7fe07beeedf97b39e44.jpg  \n",
            " extracting: train/5p5b_03A1_mp4-140_jpg.rf.6d0b210b2d4d68e89eb0c5d531356bf7.jpg  \n",
            " extracting: train/5p5b_03A1_mp4-140_jpg.rf.b143e9b8fe1d2b37f23951ada2830a01.jpg  \n",
            " extracting: train/5p5b_03A1_mp4-140_jpg.rf.ff088e7732fd106a6ca3cd1076622e2b.jpg  \n",
            " extracting: train/5p5b_03A1_mp4-144_jpg.rf.356d86458e6394e2145ec0a829835647.jpg  \n",
            " extracting: train/5p5b_03A1_mp4-144_jpg.rf.5a06f501702b0f31746f57d10cc89cfc.jpg  \n",
            " extracting: train/5p5b_03A1_mp4-144_jpg.rf.b8558a3d957646cdca0da1a57ebd8e17.jpg  \n",
            " extracting: train/5p5b_03A1_mp4-148_jpg.rf.1f0f08d41253a3bd35c9511e4fcc37cd.jpg  \n",
            " extracting: train/5p5b_03A1_mp4-148_jpg.rf.3481436af2c945d17d9c9c947cbbec58.jpg  \n",
            " extracting: train/5p5b_03A1_mp4-148_jpg.rf.c842da8eb06ae1183309c7ad2d72571d.jpg  \n",
            " extracting: train/5p5b_03A1_mp4-149_jpg.rf.0a0891d4652849dd2c21dab4d7144a97.jpg  \n",
            " extracting: train/5p5b_03A1_mp4-149_jpg.rf.44c6d43ab6895501325512d1b62ab68e.jpg  \n",
            " extracting: train/5p5b_03A1_mp4-149_jpg.rf.ca2460157c74528f93b30883572d3dd6.jpg  \n",
            " extracting: train/5p5b_03A1_mp4-159_jpg.rf.0fe3c8aa19c62d7a6df04a2ba3757d78.jpg  \n",
            " extracting: train/5p5b_03A1_mp4-159_jpg.rf.5555b06d4932ec605f190b3a171d38ae.jpg  \n",
            " extracting: train/5p5b_03A1_mp4-159_jpg.rf.72f5aab765b9886bf376b8af840b306a.jpg  \n",
            " extracting: train/5p5b_03A1_mp4-15_jpg.rf.702980e01243d5505a700b823ff2567a.jpg  \n",
            " extracting: train/5p5b_03A1_mp4-15_jpg.rf.9e269877f7ce9f889028d3af3c6c4448.jpg  \n",
            " extracting: train/5p5b_03A1_mp4-15_jpg.rf.b1eedadb0047f92be3dce7106a3c2de9.jpg  \n",
            " extracting: train/5p5b_03A1_mp4-163_jpg.rf.48422c28d4210f7a6d7175c1abadce1e.jpg  \n",
            " extracting: train/5p5b_03A1_mp4-163_jpg.rf.63f12601e6c4916e5b6f2116766e049b.jpg  \n",
            " extracting: train/5p5b_03A1_mp4-163_jpg.rf.c32087510617e901c624ff1a3415e3df.jpg  \n",
            " extracting: train/5p5b_03A1_mp4-166_jpg.rf.54f3c552843ba691d06d74769b6dda84.jpg  \n",
            " extracting: train/5p5b_03A1_mp4-166_jpg.rf.85ae65241069a7f082e2651ae01693e5.jpg  \n",
            " extracting: train/5p5b_03A1_mp4-166_jpg.rf.ff57103f42b6ac8c78eafb70eabc05c9.jpg  \n",
            " extracting: train/5p5b_03A1_mp4-167_jpg.rf.2377ee1ce99f2571c56f93ef7b7c8edb.jpg  \n",
            " extracting: train/5p5b_03A1_mp4-167_jpg.rf.2cff92820e9cb9a841929ff9a202c4f5.jpg  \n",
            " extracting: train/5p5b_03A1_mp4-167_jpg.rf.b12579a5e561521f56efc66f1a4adad4.jpg  \n",
            " extracting: train/5p5b_03A1_mp4-170_jpg.rf.4c7e82ba6f987cc5cf9a4a5d03eb82e2.jpg  \n",
            " extracting: train/5p5b_03A1_mp4-170_jpg.rf.4ebda9830726f72553432d1e7dc72288.jpg  \n",
            " extracting: train/5p5b_03A1_mp4-170_jpg.rf.7697f728e3b4d42d3f7d8faae6fab820.jpg  \n",
            " extracting: train/5p5b_03A1_mp4-177_jpg.rf.07bcfe28d41eef5af1d2930ecf54808e.jpg  \n",
            " extracting: train/5p5b_03A1_mp4-177_jpg.rf.62ea643c53d6dcdac241c45e24f3b961.jpg  \n",
            " extracting: train/5p5b_03A1_mp4-177_jpg.rf.c597184b063236f4878c1b45aa056d24.jpg  \n",
            " extracting: train/5p5b_03A1_mp4-181_jpg.rf.0f74f5104cf4f72a453c4856544c7068.jpg  \n",
            " extracting: train/5p5b_03A1_mp4-181_jpg.rf.524f95dde86a22e0194e303899e72b71.jpg  \n",
            " extracting: train/5p5b_03A1_mp4-181_jpg.rf.697282045213e77b21857b1e031511a6.jpg  \n",
            " extracting: train/5p5b_03A1_mp4-182_jpg.rf.71b0ad02ab337d15a90165ae052a5ed9.jpg  \n",
            " extracting: train/5p5b_03A1_mp4-182_jpg.rf.afe536a65144378463e26d4fb3c78a04.jpg  \n",
            " extracting: train/5p5b_03A1_mp4-182_jpg.rf.c7a9990ae735db1225292a75323cb1f0.jpg  \n",
            " extracting: train/5p5b_03A1_mp4-183_jpg.rf.6b1eb3b21132ae7afa6e802f05b27316.jpg  \n",
            " extracting: train/5p5b_03A1_mp4-183_jpg.rf.d63052ea208b3c0c63993ad08ffb9725.jpg  \n",
            " extracting: train/5p5b_03A1_mp4-183_jpg.rf.f040fe577f69ad28d728fba0c0b812a4.jpg  \n",
            " extracting: train/5p5b_03A1_mp4-18_jpg.rf.37ff5519b21b14f1ed1444855b0f6882.jpg  \n",
            " extracting: train/5p5b_03A1_mp4-18_jpg.rf.3d80b6a96e2cbdaed6c7abc41f4dffce.jpg  \n",
            " extracting: train/5p5b_03A1_mp4-18_jpg.rf.4ef75b08f5edf1aa6efc6f188b5735a2.jpg  \n",
            " extracting: train/5p5b_03A1_mp4-19_jpg.rf.44868886e3af3d1f12d848276c48d8a6.jpg  \n",
            " extracting: train/5p5b_03A1_mp4-19_jpg.rf.5599fe781f6832a5204a6e79299cda0d.jpg  \n",
            " extracting: train/5p5b_03A1_mp4-19_jpg.rf.eef962ca49ff186f436b7a5ee02b31c1.jpg  \n",
            " extracting: train/5p5b_03A1_mp4-1_jpg.rf.46a24e0898c91d0f075c60c6f3f7a420.jpg  \n",
            " extracting: train/5p5b_03A1_mp4-1_jpg.rf.5eebf18039980f931f264964431e584f.jpg  \n",
            " extracting: train/5p5b_03A1_mp4-1_jpg.rf.a619744a3f5ca5f5e143d6da5c81e6aa.jpg  \n",
            " extracting: train/5p5b_03A1_mp4-21_jpg.rf.2d2fb480f0bf8a7118f62fa1e3cc525a.jpg  \n",
            " extracting: train/5p5b_03A1_mp4-21_jpg.rf.b36cff90f7db9ed447c2f01f2f2525f6.jpg  \n",
            " extracting: train/5p5b_03A1_mp4-21_jpg.rf.eefc39ac3ef1d9edfb283317ce9344dd.jpg  \n",
            " extracting: train/5p5b_03A1_mp4-22_jpg.rf.47c205f39cdad904fc9f226392df7540.jpg  \n",
            " extracting: train/5p5b_03A1_mp4-22_jpg.rf.4a7144d71a63dc3b698162b88fd693c4.jpg  \n",
            " extracting: train/5p5b_03A1_mp4-22_jpg.rf.6ee875878eba61ab0c544d783b701c3c.jpg  \n",
            " extracting: train/5p5b_03A1_mp4-23_jpg.rf.048ba26ea8ebf4ea8d85b462644c0517.jpg  \n",
            " extracting: train/5p5b_03A1_mp4-23_jpg.rf.3a84fd7ac1063d4f73cd649bf19e39b8.jpg  \n",
            " extracting: train/5p5b_03A1_mp4-23_jpg.rf.e2978b9eb53d871766c866b16d75288b.jpg  \n",
            " extracting: train/5p5b_03A1_mp4-3_jpg.rf.2efd3dccfca8c3da39fdd94192b86425.jpg  \n",
            " extracting: train/5p5b_03A1_mp4-3_jpg.rf.39ab7eaf2236bb729ec6e0605009c564.jpg  \n",
            " extracting: train/5p5b_03A1_mp4-3_jpg.rf.7b6844593336e1aee6b2ddf7163b3750.jpg  \n",
            " extracting: train/5p5b_03A1_mp4-4_jpg.rf.6691560a18075a88bb4c65b77213a601.jpg  \n",
            " extracting: train/5p5b_03A1_mp4-4_jpg.rf.7ee8b1cfd03456b34960d3e1e3d3942e.jpg  \n",
            " extracting: train/5p5b_03A1_mp4-4_jpg.rf.ba01e8d7b90083da282f4b7aeade2f00.jpg  \n",
            " extracting: train/5p5b_03A1_mp4-5_jpg.rf.c987553edc99d6627d81374950455496.jpg  \n",
            " extracting: train/5p5b_03A1_mp4-5_jpg.rf.fb40c8684b9b0032714b1344c9e3e97d.jpg  \n",
            " extracting: train/5p5b_03A1_mp4-5_jpg.rf.fd2416844873bbab2662d5e3ad0d80fe.jpg  \n",
            " extracting: train/5p5b_03A1_mp4-67_jpg.rf.540a80486d42d2eb0018edec4ec986bf.jpg  \n",
            " extracting: train/5p5b_03A1_mp4-67_jpg.rf.b18745c2e19aa63c56b5a74922ff55bf.jpg  \n",
            " extracting: train/5p5b_03A1_mp4-67_jpg.rf.eb96221027f97c07140687917f19bc04.jpg  \n",
            " extracting: train/5p5b_03A1_mp4-69_jpg.rf.3b003e63c58e1f069f6e8fce4331857f.jpg  \n",
            " extracting: train/5p5b_03A1_mp4-69_jpg.rf.e6f88752bf007d272f06e601499b4a16.jpg  \n",
            " extracting: train/5p5b_03A1_mp4-69_jpg.rf.ed2bc05b7693fa5165dc66efcac40fce.jpg  \n",
            " extracting: train/5p5b_03A1_mp4-6_jpg.rf.240bdb82b90552c26eba2e3fbd29303c.jpg  \n",
            " extracting: train/5p5b_03A1_mp4-6_jpg.rf.76e4c695ab5cb70f618cc673a7462c6e.jpg  \n",
            " extracting: train/5p5b_03A1_mp4-6_jpg.rf.f6f8255a72613a985fefaa46be3af760.jpg  \n",
            " extracting: train/5p5b_03A1_mp4-72_jpg.rf.318caaa7bd160c47d08d4ffdc36336d7.jpg  \n",
            " extracting: train/5p5b_03A1_mp4-72_jpg.rf.939a47983a823fb3517f625de411d939.jpg  \n",
            " extracting: train/5p5b_03A1_mp4-72_jpg.rf.b43254c04b416b9a6ce34a1ba850e46b.jpg  \n",
            " extracting: train/5p5b_03A1_mp4-74_jpg.rf.2d9e4d79e4321b2dcd97cb16806413a8.jpg  \n",
            " extracting: train/5p5b_03A1_mp4-74_jpg.rf.750713383a382c75221581dac7617323.jpg  \n",
            " extracting: train/5p5b_03A1_mp4-74_jpg.rf.d42c0b8c5af7a605cbb5777f40516f48.jpg  \n",
            " extracting: train/5p5b_03A1_mp4-75_jpg.rf.48cb4f17e4ec734bb87012b078ac2f78.jpg  \n",
            " extracting: train/5p5b_03A1_mp4-75_jpg.rf.647660470f82f4435d5fb3cb4c781f16.jpg  \n",
            " extracting: train/5p5b_03A1_mp4-75_jpg.rf.f93817f4c4fb418b712f3d6b65f4629f.jpg  \n",
            " extracting: train/5p5b_03A1_mp4-76_jpg.rf.604c6dc897477c3b14cac0d6189b4948.jpg  \n",
            " extracting: train/5p5b_03A1_mp4-76_jpg.rf.630ca87fdda350d356ff4f4155c647a8.jpg  \n",
            " extracting: train/5p5b_03A1_mp4-76_jpg.rf.df426641dddafc31f211847f2be59903.jpg  \n",
            " extracting: train/5p5b_03A1_mp4-77_jpg.rf.27b00161a338a9d277764d47fdeb5044.jpg  \n",
            " extracting: train/5p5b_03A1_mp4-77_jpg.rf.8800b4e0bb22bb3d5fe985121232e84b.jpg  \n",
            " extracting: train/5p5b_03A1_mp4-77_jpg.rf.f83adfc916c1884cc7456ee7c7bd97cb.jpg  \n",
            " extracting: train/5p5b_03A1_mp4-78_jpg.rf.5a6ca88900457ea78f6635e3884bf01c.jpg  \n",
            " extracting: train/5p5b_03A1_mp4-78_jpg.rf.8fb091c2c17cfd4a48c828364a67fe0e.jpg  \n",
            " extracting: train/5p5b_03A1_mp4-78_jpg.rf.c00536219516dbd0ef667758ae336065.jpg  \n",
            " extracting: train/5p5b_03A1_mp4-79_jpg.rf.0189fa04f1fa75b25ec20246441f4cd0.jpg  \n",
            " extracting: train/5p5b_03A1_mp4-79_jpg.rf.5449a81b4a65a54906c4a4c046e065e5.jpg  \n",
            " extracting: train/5p5b_03A1_mp4-79_jpg.rf.83a5eed686cb63cada2da558ee22166f.jpg  \n",
            " extracting: train/5p5b_03A1_mp4-7_jpg.rf.62d171f86e3fe95175dccb6b8974c807.jpg  \n",
            " extracting: train/5p5b_03A1_mp4-7_jpg.rf.954fd3293c8ad0327006c99f61664819.jpg  \n",
            " extracting: train/5p5b_03A1_mp4-7_jpg.rf.e51f4456f6f048ddd939ad1d552f8919.jpg  \n",
            " extracting: train/5p5b_03A1_mp4-80_jpg.rf.02923c034a459d57d45b9712e49fe8e3.jpg  \n",
            " extracting: train/5p5b_03A1_mp4-80_jpg.rf.2b355895d329512ac66e58913deee922.jpg  \n",
            " extracting: train/5p5b_03A1_mp4-80_jpg.rf.80dd6cb4493c161f02d694e333a81575.jpg  \n",
            " extracting: train/5p5b_03A1_mp4-81_jpg.rf.1aa08efc4a05e81d7ec513c505c1471d.jpg  \n",
            " extracting: train/5p5b_03A1_mp4-81_jpg.rf.30ac2f6e59048a9d387f5ad8777302e0.jpg  \n",
            " extracting: train/5p5b_03A1_mp4-81_jpg.rf.d03a2576b7115b289539042a5272c7c6.jpg  \n",
            " extracting: train/5p5b_03A1_mp4-84_jpg.rf.0af8e67a4a705e1460e634c1e38bbb9d.jpg  \n",
            " extracting: train/5p5b_03A1_mp4-84_jpg.rf.13c62869494720ac759fd26c3446bbbc.jpg  \n",
            " extracting: train/5p5b_03A1_mp4-84_jpg.rf.e9b9d59b3694b4a8b72c394f56439314.jpg  \n",
            " extracting: train/5p5b_03A1_mp4-85_jpg.rf.34a8d9e4e30337d8d110d2aa660aeba7.jpg  \n",
            " extracting: train/5p5b_03A1_mp4-85_jpg.rf.6883d6845985325428bf135b1d2493b5.jpg  \n",
            " extracting: train/5p5b_03A1_mp4-85_jpg.rf.7a74b86327df4676aee45b867da36d32.jpg  \n",
            " extracting: train/5p5b_03A1_mp4-86_jpg.rf.35dd33ebff29d3c46905ffc66f8425ad.jpg  \n",
            " extracting: train/5p5b_03A1_mp4-86_jpg.rf.810134ff9b53b29f258f549e4fede90f.jpg  \n",
            " extracting: train/5p5b_03A1_mp4-86_jpg.rf.adbf60835d0e39a827bd0c00dd1f01db.jpg  \n",
            " extracting: train/5p5b_03A1_mp4-87_jpg.rf.61ad2adfcaab3a536fbfaed02f41afe1.jpg  \n",
            " extracting: train/5p5b_03A1_mp4-87_jpg.rf.9218e84a85ba76d9a0288668d619ad94.jpg  \n",
            " extracting: train/5p5b_03A1_mp4-87_jpg.rf.d97bf9cd924dbc2e4383c2e463f7d5c8.jpg  \n",
            " extracting: train/5p5b_03A1_mp4-89_jpg.rf.1c034d95ddfb3d2b291d63fcd6869e07.jpg  \n",
            " extracting: train/5p5b_03A1_mp4-89_jpg.rf.304bb5b0f8fb6024dc920179c887e36d.jpg  \n",
            " extracting: train/5p5b_03A1_mp4-89_jpg.rf.d99db685e24ed776bb8db4c2ac8a6253.jpg  \n",
            " extracting: train/5p5b_03A1_mp4-8_jpg.rf.15f1c4a0a7b52c3c2cbe25d0c03abbac.jpg  \n",
            " extracting: train/5p5b_03A1_mp4-8_jpg.rf.a15f4f5529cb0aae914ba9ac8885be56.jpg  \n",
            " extracting: train/5p5b_03A1_mp4-8_jpg.rf.b78a6b058bc451b430b6350c1c414217.jpg  \n",
            " extracting: train/5p5b_03A1_mp4-91_jpg.rf.3a48d53105f1700a041f209f3a6c57fc.jpg  \n",
            " extracting: train/5p5b_03A1_mp4-91_jpg.rf.5da04aee11899e7c8cf305c04d36a4d0.jpg  \n",
            " extracting: train/5p5b_03A1_mp4-91_jpg.rf.9280645d9bab26bfbc95694d2de66fd3.jpg  \n",
            " extracting: train/5p5b_03A1_mp4-92_jpg.rf.8ae2ffcebe454ea16ccc9264285153b5.jpg  \n",
            " extracting: train/5p5b_03A1_mp4-92_jpg.rf.e6a113fa74aa1e9160955d9d49f39211.jpg  \n",
            " extracting: train/5p5b_03A1_mp4-92_jpg.rf.f3c615411f5ceacd0302e2239a2e22a4.jpg  \n",
            " extracting: train/5p5b_03A1_mp4-93_jpg.rf.068dfd74a944c347a9aa1d1dcc0bcb22.jpg  \n",
            " extracting: train/5p5b_03A1_mp4-93_jpg.rf.9bdd47f3a4a92304de035b647a95c6fe.jpg  \n",
            " extracting: train/5p5b_03A1_mp4-93_jpg.rf.dc9d72204f522b9784208dc9871c9d7b.jpg  \n",
            " extracting: train/5p5b_03A1_mp4-94_jpg.rf.3cf946811d9705fd7949d43ca690e5ad.jpg  \n",
            " extracting: train/5p5b_03A1_mp4-94_jpg.rf.6f1b43f6c2f1d0bec24fa951861c8305.jpg  \n",
            " extracting: train/5p5b_03A1_mp4-94_jpg.rf.c94a4a56aedf01ff1f7bcaeae6dba924.jpg  \n",
            " extracting: train/5p5b_03A1_mp4-95_jpg.rf.6ef4a4618cac19bc7dadc322ca554bef.jpg  \n",
            " extracting: train/5p5b_03A1_mp4-95_jpg.rf.7233e8c1e8660dff5daa6b942350a55d.jpg  \n",
            " extracting: train/5p5b_03A1_mp4-95_jpg.rf.a638549ea4b0051fc663d063f4106617.jpg  \n",
            " extracting: train/5p5b_03A1_mp4-96_jpg.rf.01507d882f60a840ec2bfde05b005598.jpg  \n",
            " extracting: train/5p5b_03A1_mp4-96_jpg.rf.0dce44e3e782292a24182ee03b21d97d.jpg  \n",
            " extracting: train/5p5b_03A1_mp4-96_jpg.rf.cba86a164857bec7ea87e280d9ee1aa6.jpg  \n",
            " extracting: train/5p5b_03A1_mp4-97_jpg.rf.344a8de942b954087de369cde009343c.jpg  \n",
            " extracting: train/5p5b_03A1_mp4-97_jpg.rf.a0bc2a734355a9f7cccc71def68456fb.jpg  \n",
            " extracting: train/5p5b_03A1_mp4-97_jpg.rf.e180e86da2bc0006a694e4bd8e9a819f.jpg  \n",
            " extracting: train/5p5b_03A1_mp4-98_jpg.rf.0ab88284758391ec194f8a6282c3eeca.jpg  \n",
            " extracting: train/5p5b_03A1_mp4-98_jpg.rf.31ab39dbe812d2dacc995fa8cfda037d.jpg  \n",
            " extracting: train/5p5b_03A1_mp4-98_jpg.rf.7129123ea18efc820ffc69b5345397fe.jpg  \n",
            " extracting: train/5p5b_03A1_mp4-99_jpg.rf.462e5fc0035f5412ef9c89da95513530.jpg  \n",
            " extracting: train/5p5b_03A1_mp4-99_jpg.rf.ce08abbd55929e9e0d32b1d11e2d3049.jpg  \n",
            " extracting: train/5p5b_03A1_mp4-99_jpg.rf.ec3531f9e54ab0d2eb6d1f1987e61840.jpg  \n",
            " extracting: train/5p5b_03A1_mp4-9_jpg.rf.20ad255d25723b30d9be584b645f7306.jpg  \n",
            " extracting: train/5p5b_03A1_mp4-9_jpg.rf.28de3c08a42cd80ba290ced9115f4f7a.jpg  \n",
            " extracting: train/5p5b_03A1_mp4-9_jpg.rf.d59ee53a4db2e3e107d046b1812560e7.jpg  \n",
            " extracting: train/_annotations.coco.json  \n",
            "   creating: valid/\n",
            " extracting: valid/5p5b_03A1_mp4-117_jpg.rf.73faa31848b3180c0a8f53acd276f1bf.jpg  \n",
            " extracting: valid/5p5b_03A1_mp4-120_jpg.rf.7196b3fcb470c99b3034caccc680bff3.jpg  \n",
            " extracting: valid/5p5b_03A1_mp4-125_jpg.rf.06a7635d7d3519f729a175f0e1d9b185.jpg  \n",
            " extracting: valid/5p5b_03A1_mp4-12_jpg.rf.a0dad11c7963d422943ec85166ca19a7.jpg  \n",
            " extracting: valid/5p5b_03A1_mp4-141_jpg.rf.13c4243da3f04d40f285a6294904ce4d.jpg  \n",
            " extracting: valid/5p5b_03A1_mp4-162_jpg.rf.4bbf815e4ca1cc772ca64f5dba6d7bd7.jpg  \n",
            " extracting: valid/5p5b_03A1_mp4-164_jpg.rf.686bf28c8e95c9ce4428db5d0f0b6f5f.jpg  \n",
            " extracting: valid/5p5b_03A1_mp4-165_jpg.rf.811a5ba5570376ee68ac776523e21ce1.jpg  \n",
            " extracting: valid/5p5b_03A1_mp4-16_jpg.rf.3f3770983761f226fd5eff5c3bc5e5bd.jpg  \n",
            " extracting: valid/5p5b_03A1_mp4-20_jpg.rf.a29989270d77ca9a2ca37d502474a58f.jpg  \n",
            " extracting: valid/5p5b_03A1_mp4-29_jpg.rf.7e8c15820c37dbb437ec85591c0dc973.jpg  \n",
            " extracting: valid/5p5b_03A1_mp4-2_jpg.rf.a0ca543df85dc5eb71a84aa0b202fb52.jpg  \n",
            " extracting: valid/5p5b_03A1_mp4-30_jpg.rf.9c5173d00c9c216c162e46605c89da36.jpg  \n",
            " extracting: valid/5p5b_03A1_mp4-34_jpg.rf.69cb179fb29ee1c03ee2d36a61556dab.jpg  \n",
            " extracting: valid/5p5b_03A1_mp4-36_jpg.rf.2079514d10fb0121070d22d5cbdd0ac6.jpg  \n",
            " extracting: valid/5p5b_03A1_mp4-38_jpg.rf.4142283588970cb65d6b9b9960f6a01a.jpg  \n",
            " extracting: valid/5p5b_03A1_mp4-43_jpg.rf.fc75aacd4c52324146a4142d2b0301aa.jpg  \n",
            " extracting: valid/5p5b_03A1_mp4-83_jpg.rf.bd9ebd9a5959e4030e4ab1c2fa72277f.jpg  \n",
            " extracting: valid/5p5b_03A1_mp4-88_jpg.rf.c1c9247395f98a4b882b6e32bfc88eb4.jpg  \n",
            " extracting: valid/5p5b_03A1_mp4-90_jpg.rf.9226373d3560b917c6aa8dd8b5bd142b.jpg  \n",
            " extracting: valid/_annotations.coco.json  \n"
          ]
        }
      ]
    },
    {
      "cell_type": "code",
      "metadata": {
        "id": "nspgbsjTdSjZ",
        "colab": {
          "base_uri": "https://localhost:8080/"
        },
        "outputId": "e4913a02-c9ef-41fe-e71c-c418273ceb2d"
      },
      "source": [
        "%ls"
      ],
      "execution_count": null,
      "outputs": [
        {
          "output_type": "stream",
          "name": "stdout",
          "text": [
            "\u001b[0m\u001b[01;34mMonk_Object_Detection\u001b[0m/  README.roboflow.txt  \u001b[01;34mtest\u001b[0m/   \u001b[01;34mvalid\u001b[0m/\n",
            "README.dataset.txt      \u001b[01;34msample_data\u001b[0m/         \u001b[01;34mtrain\u001b[0m/\n"
          ]
        }
      ]
    },
    {
      "cell_type": "code",
      "metadata": {
        "id": "4tZCaH-bdUnP",
        "colab": {
          "base_uri": "https://localhost:8080/"
        },
        "outputId": "5b2e2fc6-01fe-4f70-8fd7-5ec2b2e06fe7"
      },
      "source": [
        "%ls train"
      ],
      "execution_count": null,
      "outputs": [
        {
          "output_type": "stream",
          "name": "stdout",
          "text": [
            "5p5b_03A1_mp4-0_jpg.rf.2937acc73031d479874974509b6b845e.jpg\n",
            "5p5b_03A1_mp4-0_jpg.rf.3c8ca59a747d93131c7b4435ec87a977.jpg\n",
            "5p5b_03A1_mp4-0_jpg.rf.8e74e5f2760d4445ae14ea5126fcd203.jpg\n",
            "5p5b_03A1_mp4-100_jpg.rf.5a0cea4616c0c84e1e417d4759318584.jpg\n",
            "5p5b_03A1_mp4-100_jpg.rf.cb82af905c714c66749ace366ee7acb8.jpg\n",
            "5p5b_03A1_mp4-100_jpg.rf.ef405bd3d509b46b81ffe9752c985c62.jpg\n",
            "5p5b_03A1_mp4-102_jpg.rf.808480d40945855a40c576013986ff63.jpg\n",
            "5p5b_03A1_mp4-102_jpg.rf.a2c8168f69adc4e24702e5332c7694a2.jpg\n",
            "5p5b_03A1_mp4-102_jpg.rf.bb13c3bc9b63b7745feba4d1cf3cbea8.jpg\n",
            "5p5b_03A1_mp4-103_jpg.rf.21106faccaadfd89673d42060eae1012.jpg\n",
            "5p5b_03A1_mp4-103_jpg.rf.26fdebefd2bf6bc482c888579b6ceb07.jpg\n",
            "5p5b_03A1_mp4-103_jpg.rf.391839bf2272d50a816bb0a4eea14e59.jpg\n",
            "5p5b_03A1_mp4-106_jpg.rf.11c1a3ab4e48d4a0adc562e2a3cf4965.jpg\n",
            "5p5b_03A1_mp4-106_jpg.rf.4a2771cb4b04a7710cc4209125f5bc85.jpg\n",
            "5p5b_03A1_mp4-106_jpg.rf.c9bbfabf8d0a1754908010c412b1eeb4.jpg\n",
            "5p5b_03A1_mp4-107_jpg.rf.21cfaf296c0036f88c486c32dd71eac0.jpg\n",
            "5p5b_03A1_mp4-107_jpg.rf.5b8c65ae3743aa4f22c2e9c004fc8486.jpg\n",
            "5p5b_03A1_mp4-107_jpg.rf.6105e3c24a41cb4b41c99d5fda8e3317.jpg\n",
            "5p5b_03A1_mp4-108_jpg.rf.3c9f5ad4e896598819090a2d39046479.jpg\n",
            "5p5b_03A1_mp4-108_jpg.rf.617d4e5c45fa12dd4cc0a50d9b078d48.jpg\n",
            "5p5b_03A1_mp4-108_jpg.rf.7533ec88d8b0e14e73d1e82b71373b01.jpg\n",
            "5p5b_03A1_mp4-10_jpg.rf.0c4ae56a058df98b6493c0a4d2d545ff.jpg\n",
            "5p5b_03A1_mp4-10_jpg.rf.2116de962a0570da7f8cb2203bd4bf1b.jpg\n",
            "5p5b_03A1_mp4-10_jpg.rf.2687d8fd76961f5b83f985dc73336741.jpg\n",
            "5p5b_03A1_mp4-110_jpg.rf.00a4dad1d85f10934146249de413a2d5.jpg\n",
            "5p5b_03A1_mp4-110_jpg.rf.bc060162216cc9f09fa315a7eca8ee42.jpg\n",
            "5p5b_03A1_mp4-110_jpg.rf.f676957089dc81aecbe82663f3254b2c.jpg\n",
            "5p5b_03A1_mp4-11_jpg.rf.1980a6d128c31cc5aeb32639b89a8ca2.jpg\n",
            "5p5b_03A1_mp4-11_jpg.rf.8e93c01e03663c5e3f9cc9d2fb41c276.jpg\n",
            "5p5b_03A1_mp4-11_jpg.rf.f3055b7bfb534434127a2c6edfe37c20.jpg\n",
            "5p5b_03A1_mp4-122_jpg.rf.54a46012073b7995cb2aaa36b7830032.jpg\n",
            "5p5b_03A1_mp4-122_jpg.rf.7deccd02a9cda644bdc1b07c2b6ea616.jpg\n",
            "5p5b_03A1_mp4-122_jpg.rf.a82375a1e009140e8e5159cb36624169.jpg\n",
            "5p5b_03A1_mp4-123_jpg.rf.177540d518b06f5ea7c970c18638e7e3.jpg\n",
            "5p5b_03A1_mp4-123_jpg.rf.206c7a3fcdfa1c12354f56fd9a394be2.jpg\n",
            "5p5b_03A1_mp4-123_jpg.rf.8e91af1ca252922b1544a06ae7e0e2ac.jpg\n",
            "5p5b_03A1_mp4-130_jpg.rf.a764b67a2cccc097ef7aadf29b3a13f2.jpg\n",
            "5p5b_03A1_mp4-130_jpg.rf.b991c814f38e78ba31c1dba6643f0719.jpg\n",
            "5p5b_03A1_mp4-130_jpg.rf.ddaf8dbe7b95022bb015ce5c88e220b9.jpg\n",
            "5p5b_03A1_mp4-132_jpg.rf.869ae12d96ef38b2d546e3566deea000.jpg\n",
            "5p5b_03A1_mp4-132_jpg.rf.c2cef5b9cd12de9ea4fa1ee35550b4e5.jpg\n",
            "5p5b_03A1_mp4-132_jpg.rf.eadb8948d8720074e440dcf8b7bb43ac.jpg\n",
            "5p5b_03A1_mp4-134_jpg.rf.f62640cf8123544a8f296e5ed6521097.jpg\n",
            "5p5b_03A1_mp4-134_jpg.rf.fd25aa7d8460523ffd3b2e971b564ec9.jpg\n",
            "5p5b_03A1_mp4-134_jpg.rf.ff55fc49d678b768fce145eb6e4d7be9.jpg\n",
            "5p5b_03A1_mp4-136_jpg.rf.8e5b1e092f2f7ce6100c406afce94500.jpg\n",
            "5p5b_03A1_mp4-136_jpg.rf.ae0ee3f7c2eaa136b96dc5029dbbba29.jpg\n",
            "5p5b_03A1_mp4-136_jpg.rf.d47cee3b452bac3d3aefeb0305655b71.jpg\n",
            "5p5b_03A1_mp4-138_jpg.rf.69bdb737efa478da80bfcaa71b4140df.jpg\n",
            "5p5b_03A1_mp4-138_jpg.rf.9980b2c9cabd5180c999bca94b2fe3f2.jpg\n",
            "5p5b_03A1_mp4-138_jpg.rf.d0312fc1c1f1c47f636107421fdb45a6.jpg\n",
            "5p5b_03A1_mp4-13_jpg.rf.2b73a288dcd037a02cc24034c4031a35.jpg\n",
            "5p5b_03A1_mp4-13_jpg.rf.77426f59afde9ab00e785ffe6c68455f.jpg\n",
            "5p5b_03A1_mp4-13_jpg.rf.c0605dc545bfd7fe07beeedf97b39e44.jpg\n",
            "5p5b_03A1_mp4-140_jpg.rf.6d0b210b2d4d68e89eb0c5d531356bf7.jpg\n",
            "5p5b_03A1_mp4-140_jpg.rf.b143e9b8fe1d2b37f23951ada2830a01.jpg\n",
            "5p5b_03A1_mp4-140_jpg.rf.ff088e7732fd106a6ca3cd1076622e2b.jpg\n",
            "5p5b_03A1_mp4-144_jpg.rf.356d86458e6394e2145ec0a829835647.jpg\n",
            "5p5b_03A1_mp4-144_jpg.rf.5a06f501702b0f31746f57d10cc89cfc.jpg\n",
            "5p5b_03A1_mp4-144_jpg.rf.b8558a3d957646cdca0da1a57ebd8e17.jpg\n",
            "5p5b_03A1_mp4-148_jpg.rf.1f0f08d41253a3bd35c9511e4fcc37cd.jpg\n",
            "5p5b_03A1_mp4-148_jpg.rf.3481436af2c945d17d9c9c947cbbec58.jpg\n",
            "5p5b_03A1_mp4-148_jpg.rf.c842da8eb06ae1183309c7ad2d72571d.jpg\n",
            "5p5b_03A1_mp4-149_jpg.rf.0a0891d4652849dd2c21dab4d7144a97.jpg\n",
            "5p5b_03A1_mp4-149_jpg.rf.44c6d43ab6895501325512d1b62ab68e.jpg\n",
            "5p5b_03A1_mp4-149_jpg.rf.ca2460157c74528f93b30883572d3dd6.jpg\n",
            "5p5b_03A1_mp4-159_jpg.rf.0fe3c8aa19c62d7a6df04a2ba3757d78.jpg\n",
            "5p5b_03A1_mp4-159_jpg.rf.5555b06d4932ec605f190b3a171d38ae.jpg\n",
            "5p5b_03A1_mp4-159_jpg.rf.72f5aab765b9886bf376b8af840b306a.jpg\n",
            "5p5b_03A1_mp4-15_jpg.rf.702980e01243d5505a700b823ff2567a.jpg\n",
            "5p5b_03A1_mp4-15_jpg.rf.9e269877f7ce9f889028d3af3c6c4448.jpg\n",
            "5p5b_03A1_mp4-15_jpg.rf.b1eedadb0047f92be3dce7106a3c2de9.jpg\n",
            "5p5b_03A1_mp4-163_jpg.rf.48422c28d4210f7a6d7175c1abadce1e.jpg\n",
            "5p5b_03A1_mp4-163_jpg.rf.63f12601e6c4916e5b6f2116766e049b.jpg\n",
            "5p5b_03A1_mp4-163_jpg.rf.c32087510617e901c624ff1a3415e3df.jpg\n",
            "5p5b_03A1_mp4-166_jpg.rf.54f3c552843ba691d06d74769b6dda84.jpg\n",
            "5p5b_03A1_mp4-166_jpg.rf.85ae65241069a7f082e2651ae01693e5.jpg\n",
            "5p5b_03A1_mp4-166_jpg.rf.ff57103f42b6ac8c78eafb70eabc05c9.jpg\n",
            "5p5b_03A1_mp4-167_jpg.rf.2377ee1ce99f2571c56f93ef7b7c8edb.jpg\n",
            "5p5b_03A1_mp4-167_jpg.rf.2cff92820e9cb9a841929ff9a202c4f5.jpg\n",
            "5p5b_03A1_mp4-167_jpg.rf.b12579a5e561521f56efc66f1a4adad4.jpg\n",
            "5p5b_03A1_mp4-170_jpg.rf.4c7e82ba6f987cc5cf9a4a5d03eb82e2.jpg\n",
            "5p5b_03A1_mp4-170_jpg.rf.4ebda9830726f72553432d1e7dc72288.jpg\n",
            "5p5b_03A1_mp4-170_jpg.rf.7697f728e3b4d42d3f7d8faae6fab820.jpg\n",
            "5p5b_03A1_mp4-177_jpg.rf.07bcfe28d41eef5af1d2930ecf54808e.jpg\n",
            "5p5b_03A1_mp4-177_jpg.rf.62ea643c53d6dcdac241c45e24f3b961.jpg\n",
            "5p5b_03A1_mp4-177_jpg.rf.c597184b063236f4878c1b45aa056d24.jpg\n",
            "5p5b_03A1_mp4-181_jpg.rf.0f74f5104cf4f72a453c4856544c7068.jpg\n",
            "5p5b_03A1_mp4-181_jpg.rf.524f95dde86a22e0194e303899e72b71.jpg\n",
            "5p5b_03A1_mp4-181_jpg.rf.697282045213e77b21857b1e031511a6.jpg\n",
            "5p5b_03A1_mp4-182_jpg.rf.71b0ad02ab337d15a90165ae052a5ed9.jpg\n",
            "5p5b_03A1_mp4-182_jpg.rf.afe536a65144378463e26d4fb3c78a04.jpg\n",
            "5p5b_03A1_mp4-182_jpg.rf.c7a9990ae735db1225292a75323cb1f0.jpg\n",
            "5p5b_03A1_mp4-183_jpg.rf.6b1eb3b21132ae7afa6e802f05b27316.jpg\n",
            "5p5b_03A1_mp4-183_jpg.rf.d63052ea208b3c0c63993ad08ffb9725.jpg\n",
            "5p5b_03A1_mp4-183_jpg.rf.f040fe577f69ad28d728fba0c0b812a4.jpg\n",
            "5p5b_03A1_mp4-18_jpg.rf.37ff5519b21b14f1ed1444855b0f6882.jpg\n",
            "5p5b_03A1_mp4-18_jpg.rf.3d80b6a96e2cbdaed6c7abc41f4dffce.jpg\n",
            "5p5b_03A1_mp4-18_jpg.rf.4ef75b08f5edf1aa6efc6f188b5735a2.jpg\n",
            "5p5b_03A1_mp4-19_jpg.rf.44868886e3af3d1f12d848276c48d8a6.jpg\n",
            "5p5b_03A1_mp4-19_jpg.rf.5599fe781f6832a5204a6e79299cda0d.jpg\n",
            "5p5b_03A1_mp4-19_jpg.rf.eef962ca49ff186f436b7a5ee02b31c1.jpg\n",
            "5p5b_03A1_mp4-1_jpg.rf.46a24e0898c91d0f075c60c6f3f7a420.jpg\n",
            "5p5b_03A1_mp4-1_jpg.rf.5eebf18039980f931f264964431e584f.jpg\n",
            "5p5b_03A1_mp4-1_jpg.rf.a619744a3f5ca5f5e143d6da5c81e6aa.jpg\n",
            "5p5b_03A1_mp4-21_jpg.rf.2d2fb480f0bf8a7118f62fa1e3cc525a.jpg\n",
            "5p5b_03A1_mp4-21_jpg.rf.b36cff90f7db9ed447c2f01f2f2525f6.jpg\n",
            "5p5b_03A1_mp4-21_jpg.rf.eefc39ac3ef1d9edfb283317ce9344dd.jpg\n",
            "5p5b_03A1_mp4-22_jpg.rf.47c205f39cdad904fc9f226392df7540.jpg\n",
            "5p5b_03A1_mp4-22_jpg.rf.4a7144d71a63dc3b698162b88fd693c4.jpg\n",
            "5p5b_03A1_mp4-22_jpg.rf.6ee875878eba61ab0c544d783b701c3c.jpg\n",
            "5p5b_03A1_mp4-23_jpg.rf.048ba26ea8ebf4ea8d85b462644c0517.jpg\n",
            "5p5b_03A1_mp4-23_jpg.rf.3a84fd7ac1063d4f73cd649bf19e39b8.jpg\n",
            "5p5b_03A1_mp4-23_jpg.rf.e2978b9eb53d871766c866b16d75288b.jpg\n",
            "5p5b_03A1_mp4-3_jpg.rf.2efd3dccfca8c3da39fdd94192b86425.jpg\n",
            "5p5b_03A1_mp4-3_jpg.rf.39ab7eaf2236bb729ec6e0605009c564.jpg\n",
            "5p5b_03A1_mp4-3_jpg.rf.7b6844593336e1aee6b2ddf7163b3750.jpg\n",
            "5p5b_03A1_mp4-4_jpg.rf.6691560a18075a88bb4c65b77213a601.jpg\n",
            "5p5b_03A1_mp4-4_jpg.rf.7ee8b1cfd03456b34960d3e1e3d3942e.jpg\n",
            "5p5b_03A1_mp4-4_jpg.rf.ba01e8d7b90083da282f4b7aeade2f00.jpg\n",
            "5p5b_03A1_mp4-5_jpg.rf.c987553edc99d6627d81374950455496.jpg\n",
            "5p5b_03A1_mp4-5_jpg.rf.fb40c8684b9b0032714b1344c9e3e97d.jpg\n",
            "5p5b_03A1_mp4-5_jpg.rf.fd2416844873bbab2662d5e3ad0d80fe.jpg\n",
            "5p5b_03A1_mp4-67_jpg.rf.540a80486d42d2eb0018edec4ec986bf.jpg\n",
            "5p5b_03A1_mp4-67_jpg.rf.b18745c2e19aa63c56b5a74922ff55bf.jpg\n",
            "5p5b_03A1_mp4-67_jpg.rf.eb96221027f97c07140687917f19bc04.jpg\n",
            "5p5b_03A1_mp4-69_jpg.rf.3b003e63c58e1f069f6e8fce4331857f.jpg\n",
            "5p5b_03A1_mp4-69_jpg.rf.e6f88752bf007d272f06e601499b4a16.jpg\n",
            "5p5b_03A1_mp4-69_jpg.rf.ed2bc05b7693fa5165dc66efcac40fce.jpg\n",
            "5p5b_03A1_mp4-6_jpg.rf.240bdb82b90552c26eba2e3fbd29303c.jpg\n",
            "5p5b_03A1_mp4-6_jpg.rf.76e4c695ab5cb70f618cc673a7462c6e.jpg\n",
            "5p5b_03A1_mp4-6_jpg.rf.f6f8255a72613a985fefaa46be3af760.jpg\n",
            "5p5b_03A1_mp4-72_jpg.rf.318caaa7bd160c47d08d4ffdc36336d7.jpg\n",
            "5p5b_03A1_mp4-72_jpg.rf.939a47983a823fb3517f625de411d939.jpg\n",
            "5p5b_03A1_mp4-72_jpg.rf.b43254c04b416b9a6ce34a1ba850e46b.jpg\n",
            "5p5b_03A1_mp4-74_jpg.rf.2d9e4d79e4321b2dcd97cb16806413a8.jpg\n",
            "5p5b_03A1_mp4-74_jpg.rf.750713383a382c75221581dac7617323.jpg\n",
            "5p5b_03A1_mp4-74_jpg.rf.d42c0b8c5af7a605cbb5777f40516f48.jpg\n",
            "5p5b_03A1_mp4-75_jpg.rf.48cb4f17e4ec734bb87012b078ac2f78.jpg\n",
            "5p5b_03A1_mp4-75_jpg.rf.647660470f82f4435d5fb3cb4c781f16.jpg\n",
            "5p5b_03A1_mp4-75_jpg.rf.f93817f4c4fb418b712f3d6b65f4629f.jpg\n",
            "5p5b_03A1_mp4-76_jpg.rf.604c6dc897477c3b14cac0d6189b4948.jpg\n",
            "5p5b_03A1_mp4-76_jpg.rf.630ca87fdda350d356ff4f4155c647a8.jpg\n",
            "5p5b_03A1_mp4-76_jpg.rf.df426641dddafc31f211847f2be59903.jpg\n",
            "5p5b_03A1_mp4-77_jpg.rf.27b00161a338a9d277764d47fdeb5044.jpg\n",
            "5p5b_03A1_mp4-77_jpg.rf.8800b4e0bb22bb3d5fe985121232e84b.jpg\n",
            "5p5b_03A1_mp4-77_jpg.rf.f83adfc916c1884cc7456ee7c7bd97cb.jpg\n",
            "5p5b_03A1_mp4-78_jpg.rf.5a6ca88900457ea78f6635e3884bf01c.jpg\n",
            "5p5b_03A1_mp4-78_jpg.rf.8fb091c2c17cfd4a48c828364a67fe0e.jpg\n",
            "5p5b_03A1_mp4-78_jpg.rf.c00536219516dbd0ef667758ae336065.jpg\n",
            "5p5b_03A1_mp4-79_jpg.rf.0189fa04f1fa75b25ec20246441f4cd0.jpg\n",
            "5p5b_03A1_mp4-79_jpg.rf.5449a81b4a65a54906c4a4c046e065e5.jpg\n",
            "5p5b_03A1_mp4-79_jpg.rf.83a5eed686cb63cada2da558ee22166f.jpg\n",
            "5p5b_03A1_mp4-7_jpg.rf.62d171f86e3fe95175dccb6b8974c807.jpg\n",
            "5p5b_03A1_mp4-7_jpg.rf.954fd3293c8ad0327006c99f61664819.jpg\n",
            "5p5b_03A1_mp4-7_jpg.rf.e51f4456f6f048ddd939ad1d552f8919.jpg\n",
            "5p5b_03A1_mp4-80_jpg.rf.02923c034a459d57d45b9712e49fe8e3.jpg\n",
            "5p5b_03A1_mp4-80_jpg.rf.2b355895d329512ac66e58913deee922.jpg\n",
            "5p5b_03A1_mp4-80_jpg.rf.80dd6cb4493c161f02d694e333a81575.jpg\n",
            "5p5b_03A1_mp4-81_jpg.rf.1aa08efc4a05e81d7ec513c505c1471d.jpg\n",
            "5p5b_03A1_mp4-81_jpg.rf.30ac2f6e59048a9d387f5ad8777302e0.jpg\n",
            "5p5b_03A1_mp4-81_jpg.rf.d03a2576b7115b289539042a5272c7c6.jpg\n",
            "5p5b_03A1_mp4-84_jpg.rf.0af8e67a4a705e1460e634c1e38bbb9d.jpg\n",
            "5p5b_03A1_mp4-84_jpg.rf.13c62869494720ac759fd26c3446bbbc.jpg\n",
            "5p5b_03A1_mp4-84_jpg.rf.e9b9d59b3694b4a8b72c394f56439314.jpg\n",
            "5p5b_03A1_mp4-85_jpg.rf.34a8d9e4e30337d8d110d2aa660aeba7.jpg\n",
            "5p5b_03A1_mp4-85_jpg.rf.6883d6845985325428bf135b1d2493b5.jpg\n",
            "5p5b_03A1_mp4-85_jpg.rf.7a74b86327df4676aee45b867da36d32.jpg\n",
            "5p5b_03A1_mp4-86_jpg.rf.35dd33ebff29d3c46905ffc66f8425ad.jpg\n",
            "5p5b_03A1_mp4-86_jpg.rf.810134ff9b53b29f258f549e4fede90f.jpg\n",
            "5p5b_03A1_mp4-86_jpg.rf.adbf60835d0e39a827bd0c00dd1f01db.jpg\n",
            "5p5b_03A1_mp4-87_jpg.rf.61ad2adfcaab3a536fbfaed02f41afe1.jpg\n",
            "5p5b_03A1_mp4-87_jpg.rf.9218e84a85ba76d9a0288668d619ad94.jpg\n",
            "5p5b_03A1_mp4-87_jpg.rf.d97bf9cd924dbc2e4383c2e463f7d5c8.jpg\n",
            "5p5b_03A1_mp4-89_jpg.rf.1c034d95ddfb3d2b291d63fcd6869e07.jpg\n",
            "5p5b_03A1_mp4-89_jpg.rf.304bb5b0f8fb6024dc920179c887e36d.jpg\n",
            "5p5b_03A1_mp4-89_jpg.rf.d99db685e24ed776bb8db4c2ac8a6253.jpg\n",
            "5p5b_03A1_mp4-8_jpg.rf.15f1c4a0a7b52c3c2cbe25d0c03abbac.jpg\n",
            "5p5b_03A1_mp4-8_jpg.rf.a15f4f5529cb0aae914ba9ac8885be56.jpg\n",
            "5p5b_03A1_mp4-8_jpg.rf.b78a6b058bc451b430b6350c1c414217.jpg\n",
            "5p5b_03A1_mp4-91_jpg.rf.3a48d53105f1700a041f209f3a6c57fc.jpg\n",
            "5p5b_03A1_mp4-91_jpg.rf.5da04aee11899e7c8cf305c04d36a4d0.jpg\n",
            "5p5b_03A1_mp4-91_jpg.rf.9280645d9bab26bfbc95694d2de66fd3.jpg\n",
            "5p5b_03A1_mp4-92_jpg.rf.8ae2ffcebe454ea16ccc9264285153b5.jpg\n",
            "5p5b_03A1_mp4-92_jpg.rf.e6a113fa74aa1e9160955d9d49f39211.jpg\n",
            "5p5b_03A1_mp4-92_jpg.rf.f3c615411f5ceacd0302e2239a2e22a4.jpg\n",
            "5p5b_03A1_mp4-93_jpg.rf.068dfd74a944c347a9aa1d1dcc0bcb22.jpg\n",
            "5p5b_03A1_mp4-93_jpg.rf.9bdd47f3a4a92304de035b647a95c6fe.jpg\n",
            "5p5b_03A1_mp4-93_jpg.rf.dc9d72204f522b9784208dc9871c9d7b.jpg\n",
            "5p5b_03A1_mp4-94_jpg.rf.3cf946811d9705fd7949d43ca690e5ad.jpg\n",
            "5p5b_03A1_mp4-94_jpg.rf.6f1b43f6c2f1d0bec24fa951861c8305.jpg\n",
            "5p5b_03A1_mp4-94_jpg.rf.c94a4a56aedf01ff1f7bcaeae6dba924.jpg\n",
            "5p5b_03A1_mp4-95_jpg.rf.6ef4a4618cac19bc7dadc322ca554bef.jpg\n",
            "5p5b_03A1_mp4-95_jpg.rf.7233e8c1e8660dff5daa6b942350a55d.jpg\n",
            "5p5b_03A1_mp4-95_jpg.rf.a638549ea4b0051fc663d063f4106617.jpg\n",
            "5p5b_03A1_mp4-96_jpg.rf.01507d882f60a840ec2bfde05b005598.jpg\n",
            "5p5b_03A1_mp4-96_jpg.rf.0dce44e3e782292a24182ee03b21d97d.jpg\n",
            "5p5b_03A1_mp4-96_jpg.rf.cba86a164857bec7ea87e280d9ee1aa6.jpg\n",
            "5p5b_03A1_mp4-97_jpg.rf.344a8de942b954087de369cde009343c.jpg\n",
            "5p5b_03A1_mp4-97_jpg.rf.a0bc2a734355a9f7cccc71def68456fb.jpg\n",
            "5p5b_03A1_mp4-97_jpg.rf.e180e86da2bc0006a694e4bd8e9a819f.jpg\n",
            "5p5b_03A1_mp4-98_jpg.rf.0ab88284758391ec194f8a6282c3eeca.jpg\n",
            "5p5b_03A1_mp4-98_jpg.rf.31ab39dbe812d2dacc995fa8cfda037d.jpg\n",
            "5p5b_03A1_mp4-98_jpg.rf.7129123ea18efc820ffc69b5345397fe.jpg\n",
            "5p5b_03A1_mp4-99_jpg.rf.462e5fc0035f5412ef9c89da95513530.jpg\n",
            "5p5b_03A1_mp4-99_jpg.rf.ce08abbd55929e9e0d32b1d11e2d3049.jpg\n",
            "5p5b_03A1_mp4-99_jpg.rf.ec3531f9e54ab0d2eb6d1f1987e61840.jpg\n",
            "5p5b_03A1_mp4-9_jpg.rf.20ad255d25723b30d9be584b645f7306.jpg\n",
            "5p5b_03A1_mp4-9_jpg.rf.28de3c08a42cd80ba290ced9115f4f7a.jpg\n",
            "5p5b_03A1_mp4-9_jpg.rf.d59ee53a4db2e3e107d046b1812560e7.jpg\n",
            "_annotations.coco.json\n"
          ]
        }
      ]
    },
    {
      "cell_type": "code",
      "metadata": {
        "id": "5DtDu-7Hlk_O"
      },
      "source": [
        "!mkdir Data\n",
        "!mkdir Data/annotations\n",
        "!mkdir Data/Annotations\n",
        "!mkdir Data/Images"
      ],
      "execution_count": null,
      "outputs": []
    },
    {
      "cell_type": "code",
      "metadata": {
        "id": "3uZzGiw_mrRI"
      },
      "source": [
        "%cp train/_annotations.coco.json Chess/annotations/instances_Images.json"
      ],
      "execution_count": null,
      "outputs": []
    },
    {
      "cell_type": "code",
      "metadata": {
        "id": "NLzZXkkhrvx4"
      },
      "source": [
        "%cp train/*.jpg Chess/Images/"
      ],
      "execution_count": null,
      "outputs": []
    },
    {
      "cell_type": "markdown",
      "metadata": {
        "id": "wBi3RS1_fd4N"
      },
      "source": [
        "# Training\n",
        "\n"
      ]
    },
    {
      "cell_type": "code",
      "metadata": {
        "id": "Fvfo6x7Vdw6i"
      },
      "source": [
        "import os\n",
        "import sys\n",
        "sys.path.append(\"Monk_Object_Detection/4_efficientdet/lib/\");"
      ],
      "execution_count": null,
      "outputs": []
    },
    {
      "cell_type": "code",
      "metadata": {
        "id": "21o9flNqfP-8"
      },
      "source": [
        "from train_detector import Detector"
      ],
      "execution_count": null,
      "outputs": []
    },
    {
      "cell_type": "code",
      "metadata": {
        "id": "c35tC0dCfoky"
      },
      "source": [
        "gtf = Detector();"
      ],
      "execution_count": null,
      "outputs": []
    },
    {
      "cell_type": "code",
      "metadata": {
        "id": "aYKeGqpqgvN4"
      },
      "source": [
        "root_dir = \"./\";\n",
        "coco_dir = \"Data\";\n",
        "img_dir = \"./\";\n",
        "set_dir = \"Images\";"
      ],
      "execution_count": null,
      "outputs": []
    },
    {
      "cell_type": "code",
      "metadata": {
        "id": "T6epk9-HkBwJ"
      },
      "source": [
        "gtf.Train_Dataset(root_dir, coco_dir, img_dir, set_dir, batch_size=8, image_size=512, use_gpu=True)"
      ],
      "execution_count": null,
      "outputs": []
    },
    {
      "cell_type": "code",
      "metadata": {
        "id": "O0-xLOmisU9P"
      },
      "source": [
        "gtf.Model();"
      ],
      "execution_count": null,
      "outputs": []
    },
    {
      "cell_type": "code",
      "metadata": {
        "id": "y3XsPHdxsXsH"
      },
      "source": [
        "gtf.Set_Hyperparams(lr=0.0001, val_interval=1, es_min_delta=0.0, es_patience=0)"
      ],
      "execution_count": null,
      "outputs": []
    },
    {
      "cell_type": "code",
      "metadata": {
        "id": "d7vtQ28fsc9K"
      },
      "source": [
        "%%time\n",
        "gtf.Train(num_epochs=100, model_output_dir=\"trained/\");"
      ],
      "execution_count": null,
      "outputs": []
    },
    {
      "cell_type": "markdown",
      "metadata": {
        "id": "1cj9gst-hRDg"
      },
      "source": [
        "# Inference"
      ]
    },
    {
      "cell_type": "code",
      "metadata": {
        "id": "ZC263x69sfai"
      },
      "source": [
        "import os\n",
        "import sys\n",
        "sys.path.append(\"Monk_Object_Detection/4_efficientdet/lib/\");"
      ],
      "execution_count": null,
      "outputs": []
    },
    {
      "cell_type": "code",
      "metadata": {
        "id": "IsxWRWL8tcgP"
      },
      "source": [
        "from infer_detector import Infer"
      ],
      "execution_count": null,
      "outputs": []
    },
    {
      "cell_type": "code",
      "metadata": {
        "id": "VEuuSjWYte5-"
      },
      "source": [
        "gtf = Infer();"
      ],
      "execution_count": null,
      "outputs": []
    },
    {
      "cell_type": "code",
      "metadata": {
        "id": "YWbOZk-rthzW"
      },
      "source": [
        "gtf.Model(model_dir=\"trained/\")"
      ],
      "execution_count": null,
      "outputs": []
    },
    {
      "cell_type": "code",
      "metadata": {
        "id": "CH2Tv7gstkP_"
      },
      "source": [
        "import json\n",
        "with open('train/_annotations.coco.json') as json_file:\n",
        "    data = json.load(json_file)\n",
        "class_list = []\n",
        "for category in data['categories']:\n",
        "  class_list.append(category['name'])"
      ],
      "execution_count": null,
      "outputs": []
    },
    {
      "cell_type": "code",
      "metadata": {
        "id": "qMLy8LIcuRQS"
      },
      "source": [
        "class_list"
      ],
      "execution_count": null,
      "outputs": []
    },
    {
      "cell_type": "code",
      "metadata": {
        "id": "Oc87-3NPummz"
      },
      "source": [
        "%%time\n",
        "test_images = [f for f in os.listdir('test') if f.endswith('.jpg')]\n",
        "import random\n",
        "img_path = \"test/\" + random.choice(test_images);\n",
        "duration, scores, labels, boxes = gtf.Predict(img_path, class_list, vis_threshold=0.2);"
      ],
      "execution_count": null,
      "outputs": []
    },
    {
      "cell_type": "code",
      "metadata": {
        "id": "KbJbgLggvGM_"
      },
      "source": [
        "from IPython.display import Image\n",
        "Image(filename='output.jpg') "
      ],
      "execution_count": null,
      "outputs": []
    },
    {
      "cell_type": "markdown",
      "metadata": {
        "id": "WfyWosXWrbWN"
      },
      "source": [
        "# Export Trained Weights"
      ]
    },
    {
      "cell_type": "code",
      "metadata": {
        "id": "KwDS9qqBbMQa"
      },
      "source": [
        "from google.colab import drive\n",
        "drive.mount('/content/drive')"
      ],
      "execution_count": null,
      "outputs": []
    },
    {
      "cell_type": "code",
      "metadata": {
        "id": "WSqXvZhlbfCc"
      },
      "source": [
        "%mkdir trained_export\n",
        "%cp ./trained/signatrix_efficientdet_coco.onnx ./trained_export/signatrix_efficientdet_coco_$(date +%F-%H:%M).onnx\n",
        "%cp ./trained/signatrix_efficientdet_coco.pth ./trained_export/signatrix_efficientdet_coco_$(date +%F-%H:%M).pth\n",
        "%mv ./trained_export/* /content/drive/My\\ Drive/"
      ],
      "execution_count": null,
      "outputs": []
    },
    {
      "cell_type": "markdown",
      "metadata": {
        "id": "7ieAIXwm11CO"
      },
      "source": [
        "# Reloading Trained Weights after Export\n",
        "\n"
      ]
    },
    {
      "cell_type": "code",
      "metadata": {
        "id": "fJ5__F0haiqP",
        "colab": {
          "base_uri": "https://localhost:8080/"
        },
        "outputId": "a6998834-a3ba-4b86-98d3-ce85a9f26dd6"
      },
      "source": [
        "from google.colab import drive\n",
        "drive.mount('/content/drive')"
      ],
      "execution_count": null,
      "outputs": [
        {
          "output_type": "stream",
          "name": "stdout",
          "text": [
            "Drive already mounted at /content/drive; to attempt to forcibly remount, call drive.mount(\"/content/drive\", force_remount=True).\n"
          ]
        }
      ]
    },
    {
      "cell_type": "code",
      "metadata": {
        "id": "nhyNJ7GsatcD",
        "colab": {
          "base_uri": "https://localhost:8080/"
        },
        "outputId": "573da157-a944-4165-bb03-42640483bede"
      },
      "source": [
        "#!rm -rf Monk_Object_Detection\n",
        "! git clone https://github.com/roboflow-ai/Monk_Object_Detection.git"
      ],
      "execution_count": null,
      "outputs": [
        {
          "output_type": "stream",
          "name": "stdout",
          "text": [
            "fatal: destination path 'Monk_Object_Detection' already exists and is not an empty directory.\n"
          ]
        }
      ]
    },
    {
      "cell_type": "code",
      "metadata": {
        "id": "pTVWQohaa2WU",
        "colab": {
          "base_uri": "https://localhost:8080/",
          "height": 922
        },
        "outputId": "9a94f8ba-167c-4e7a-a0ae-75d2d7f8d9ea"
      },
      "source": [
        "! cd Monk_Object_Detection/3_mxrcnn/installation && cat requirements_colab.txt | xargs -n 1 -L 1 pip install\n",
        "\n",
        "!pip install --force https://github.com/chengs/tqdm/archive/colab.zip\n",
        "!pip install efficientnet_pytorch\n",
        "!pip install tensorboardX"
      ],
      "execution_count": null,
      "outputs": [
        {
          "output_type": "stream",
          "name": "stdout",
          "text": [
            "Requirement already satisfied: mxnet-cu100 in /usr/local/lib/python3.7/dist-packages (1.8.0.post0)\n",
            "Requirement already satisfied: numpy<2.0.0,>1.16.0 in /usr/local/lib/python3.7/dist-packages (from mxnet-cu100) (1.19.5)\n",
            "Requirement already satisfied: requests<3,>=2.20.0 in /usr/local/lib/python3.7/dist-packages (from mxnet-cu100) (2.23.0)\n",
            "Requirement already satisfied: graphviz<0.9.0,>=0.8.1 in /usr/local/lib/python3.7/dist-packages (from mxnet-cu100) (0.8.4)\n",
            "Requirement already satisfied: chardet<4,>=3.0.2 in /usr/local/lib/python3.7/dist-packages (from requests<3,>=2.20.0->mxnet-cu100) (3.0.4)\n",
            "Requirement already satisfied: idna<3,>=2.5 in /usr/local/lib/python3.7/dist-packages (from requests<3,>=2.20.0->mxnet-cu100) (2.10)\n",
            "Requirement already satisfied: certifi>=2017.4.17 in /usr/local/lib/python3.7/dist-packages (from requests<3,>=2.20.0->mxnet-cu100) (2021.5.30)\n",
            "Requirement already satisfied: urllib3!=1.25.0,!=1.25.1,<1.26,>=1.21.1 in /usr/local/lib/python3.7/dist-packages (from requests<3,>=2.20.0->mxnet-cu100) (1.24.3)\n",
            "Requirement already satisfied: dicttoxml in /usr/local/lib/python3.7/dist-packages (1.7.4)\n",
            "Requirement already satisfied: xmltodict in /usr/local/lib/python3.7/dist-packages (0.12.0)\n",
            "Collecting pycocotools\n",
            "  Cloning https://github.com/abhi-kumar/cocoapi.git to /tmp/pip-install-7t2cae4v/pycocotools_043f10f0d19b46ac90466cd9a43e9774\n",
            "  Running command git clone -q https://github.com/abhi-kumar/cocoapi.git /tmp/pip-install-7t2cae4v/pycocotools_043f10f0d19b46ac90466cd9a43e9774\n",
            "Requirement already satisfied: setuptools>=18.0 in /usr/local/lib/python3.7/dist-packages (from pycocotools) (57.4.0)\n",
            "Requirement already satisfied: cython>=0.27.3 in /usr/local/lib/python3.7/dist-packages (from pycocotools) (0.29.24)\n",
            "Requirement already satisfied: matplotlib>=2.1.0 in /usr/local/lib/python3.7/dist-packages (from pycocotools) (3.2.2)\n",
            "Requirement already satisfied: python-dateutil>=2.1 in /usr/local/lib/python3.7/dist-packages (from matplotlib>=2.1.0->pycocotools) (2.8.2)\n",
            "Requirement already satisfied: kiwisolver>=1.0.1 in /usr/local/lib/python3.7/dist-packages (from matplotlib>=2.1.0->pycocotools) (1.3.2)\n",
            "Requirement already satisfied: numpy>=1.11 in /usr/local/lib/python3.7/dist-packages (from matplotlib>=2.1.0->pycocotools) (1.19.5)\n",
            "Requirement already satisfied: pyparsing!=2.0.4,!=2.1.2,!=2.1.6,>=2.0.1 in /usr/local/lib/python3.7/dist-packages (from matplotlib>=2.1.0->pycocotools) (2.4.7)\n",
            "Requirement already satisfied: cycler>=0.10 in /usr/local/lib/python3.7/dist-packages (from matplotlib>=2.1.0->pycocotools) (0.10.0)\n",
            "Requirement already satisfied: six in /usr/local/lib/python3.7/dist-packages (from cycler>=0.10->matplotlib>=2.1.0->pycocotools) (1.15.0)\n",
            "Collecting https://github.com/chengs/tqdm/archive/colab.zip\n",
            "  Using cached https://github.com/chengs/tqdm/archive/colab.zip\n",
            "Building wheels for collected packages: tqdm\n",
            "  Building wheel for tqdm (setup.py) ... \u001b[?25l\u001b[?25hdone\n",
            "  Created wheel for tqdm: filename=tqdm-4.28.1-py2.py3-none-any.whl size=47878 sha256=4ff794caf33a95d4195c8b26946d0870b3de9d132729394d0df97d961fcb97e2\n",
            "  Stored in directory: /tmp/pip-ephem-wheel-cache-27i7tlpf/wheels/b5/36/d9/593e7ac06d343d0a32138fa6c402dc3a0bd31442c9fe53f76c\n",
            "Successfully built tqdm\n",
            "Installing collected packages: tqdm\n",
            "  Attempting uninstall: tqdm\n",
            "    Found existing installation: tqdm 4.28.1\n",
            "    Uninstalling tqdm-4.28.1:\n",
            "      Successfully uninstalled tqdm-4.28.1\n",
            "\u001b[31mERROR: pip's dependency resolver does not currently take into account all the packages that are installed. This behaviour is the source of the following dependency conflicts.\n",
            "spacy 2.2.4 requires tqdm<5.0.0,>=4.38.0, but you have tqdm 4.28.1 which is incompatible.\n",
            "panel 0.12.1 requires tqdm>=4.48.0, but you have tqdm 4.28.1 which is incompatible.\n",
            "fbprophet 0.7.1 requires tqdm>=4.36.1, but you have tqdm 4.28.1 which is incompatible.\u001b[0m\n",
            "Successfully installed tqdm-4.28.1\n"
          ]
        },
        {
          "output_type": "display_data",
          "data": {
            "application/vnd.colab-display-data+json": {
              "pip_warning": {
                "packages": [
                  "tqdm"
                ]
              }
            }
          },
          "metadata": {}
        },
        {
          "output_type": "stream",
          "name": "stdout",
          "text": [
            "Requirement already satisfied: efficientnet_pytorch in /usr/local/lib/python3.7/dist-packages (0.7.1)\n",
            "Requirement already satisfied: torch in /usr/local/lib/python3.7/dist-packages (from efficientnet_pytorch) (1.9.0+cu111)\n",
            "Requirement already satisfied: typing-extensions in /usr/local/lib/python3.7/dist-packages (from torch->efficientnet_pytorch) (3.7.4.3)\n",
            "Requirement already satisfied: tensorboardX in /usr/local/lib/python3.7/dist-packages (2.4)\n",
            "Requirement already satisfied: numpy in /usr/local/lib/python3.7/dist-packages (from tensorboardX) (1.19.5)\n",
            "Requirement already satisfied: protobuf>=3.8.0 in /usr/local/lib/python3.7/dist-packages (from tensorboardX) (3.17.3)\n",
            "Requirement already satisfied: six>=1.9 in /usr/local/lib/python3.7/dist-packages (from protobuf>=3.8.0->tensorboardX) (1.15.0)\n"
          ]
        }
      ]
    },
    {
      "cell_type": "code",
      "metadata": {
        "id": "_rKXFWlLbZlf",
        "colab": {
          "base_uri": "https://localhost:8080/"
        },
        "outputId": "14f0f56d-2d12-491e-cda6-d8a35fdc9170"
      },
      "source": [
        "#recover trained weights\n",
        "!mkdir '/trained'\n",
        "!cp '/content/drive/MyDrive/efficientDet.onnx' '/trained/efficientDet.onnx'\n",
        "!cp '/content/drive/MyDrive/efficientDet.pth' '/trained/efficientDet.pth'"
      ],
      "execution_count": 85,
      "outputs": [
        {
          "output_type": "stream",
          "name": "stdout",
          "text": [
            "mkdir: cannot create directory ‘/trained’: File exists\n"
          ]
        }
      ]
    },
    {
      "cell_type": "code",
      "metadata": {
        "id": "maetU4VddJNC"
      },
      "source": [
        "import os\n",
        "import sys\n",
        "sys.path.append(\"Monk_Object_Detection/4_efficientdet/lib/\");"
      ],
      "execution_count": null,
      "outputs": []
    },
    {
      "cell_type": "code",
      "metadata": {
        "id": "C3Jrco_TdkhU"
      },
      "source": [
        "from infer_detector import Infer\n",
        "gtf = Infer();"
      ],
      "execution_count": null,
      "outputs": []
    },
    {
      "cell_type": "code",
      "metadata": {
        "id": "GgZKzmI1egUa"
      },
      "source": [
        "#our trained model weights are in here in onxx format\n",
        "gtf.Model(model_dir=\"/trained\")"
      ],
      "execution_count": null,
      "outputs": []
    },
    {
      "cell_type": "code",
      "metadata": {
        "id": "lEksZQC5fMQ2",
        "colab": {
          "base_uri": "https://localhost:8080/"
        },
        "outputId": "f931d9d5-e238-4b5e-aeab-a6deaf1dcf7d"
      },
      "source": [
        "#download some test data\n",
        "!curl -L https://app.roboflow.com/ds/EA3c6y2zBG?key=e4hVm3MFqa | jar -x"
      ],
      "execution_count": null,
      "outputs": [
        {
          "output_type": "stream",
          "name": "stdout",
          "text": [
            "  % Total    % Received % Xferd  Average Speed   Time    Time     Time  Current\n",
            "                                 Dload  Upload   Total   Spent    Left  Speed\n",
            "100   879  100   879    0     0   1457      0 --:--:-- --:--:-- --:--:--  1455\n",
            " 99 14.7M   99 14.7M    0     0  10.4M      0  0:00:01  0:00:01 --:--:-- 48.0M\n",
            "curl: (23) Failed writing body (4096 != 8192)\n"
          ]
        }
      ]
    },
    {
      "cell_type": "code",
      "metadata": {
        "id": "ZOOGlzad1Kln",
        "colab": {
          "base_uri": "https://localhost:8080/"
        },
        "outputId": "ee8daf21-d280-47f6-87ba-aab4a9b50fe9"
      },
      "source": [
        "!ls test"
      ],
      "execution_count": null,
      "outputs": [
        {
          "output_type": "stream",
          "name": "stdout",
          "text": [
            "5p5b_03A1_mp4-105_jpg.rf.d3a3c3404562ea74a373f9054fb5b8a9.jpg\n",
            "5p5b_03A1_mp4-112_jpg.rf.381ca0419c88a0d5131680d20fcd824a.jpg\n",
            "5p5b_03A1_mp4-14_jpg.rf.5651279843abc55dd0bca89eec141af9.jpg\n",
            "5p5b_03A1_mp4-17_jpg.rf.8eddb36c13589d3f60462e910cc92e4b.jpg\n",
            "5p5b_03A1_mp4-27_jpg.rf.461f013d87ef575fc4e7459224cc820c.jpg\n",
            "5p5b_03A1_mp4-44_jpg.rf.462e8a14fc6513aeeaad483824a02fb7.jpg\n",
            "5p5b_03A1_mp4-57_jpg.rf.3bed6def8e334ca7a5da5d91a07b0bcf.jpg\n",
            "5p5b_03A1_mp4-64_jpg.rf.1f1c018321289e9b3b89476e5103414c.jpg\n",
            "5p5b_03A1_mp4-73_jpg.rf.adf2c376bff5f5b81d3ae82f746e2a3c.jpg\n",
            "5p5b_03A1_mp4-82_jpg.rf.39a881e47a0fba382b9db0b0fe466127.jpg\n",
            "_annotations.coco.json\n"
          ]
        }
      ]
    },
    {
      "cell_type": "code",
      "metadata": {
        "id": "M0qOyjPh1MOs"
      },
      "source": [
        "#extract class list from our annotations\n",
        "#in your application you will probably already have this saved\n",
        "import json\n",
        "with open('train/_annotations.coco.json') as json_file:\n",
        "    data = json.load(json_file)\n",
        "class_list = []\n",
        "for category in data['categories']:\n",
        "  class_list.append(category['name'])"
      ],
      "execution_count": null,
      "outputs": []
    },
    {
      "cell_type": "code",
      "metadata": {
        "id": "xW8EEb111csu",
        "colab": {
          "base_uri": "https://localhost:8080/"
        },
        "outputId": "76bdfe80-c0c5-4907-9684-964a5d0ec763"
      },
      "source": [
        "class_list"
      ],
      "execution_count": null,
      "outputs": [
        {
          "output_type": "execute_result",
          "data": {
            "text/plain": [
              "['People-Balls',\n",
              " 'ball_1',\n",
              " 'ball_2',\n",
              " 'ball_3',\n",
              " 'ball_4',\n",
              " 'ball_5',\n",
              " 'person_1',\n",
              " 'person_2',\n",
              " 'person_3',\n",
              " 'person_4',\n",
              " 'person_5']"
            ]
          },
          "metadata": {},
          "execution_count": 12
        }
      ]
    },
    {
      "cell_type": "markdown",
      "metadata": {
        "id": "WdnxikTq7Fj6"
      },
      "source": [
        "#Image Testing"
      ]
    },
    {
      "cell_type": "code",
      "metadata": {
        "id": "ObmqK4EI1ga0",
        "colab": {
          "base_uri": "https://localhost:8080/"
        },
        "outputId": "107c073e-742d-4f37-dde7-9c224951d9b0"
      },
      "source": [
        "%%time\n",
        "test_images = [f for f in os.listdir('test') if f.endswith('.jpg')]\n",
        "import random\n",
        "#for i in test_images:\n",
        "img_path = \"test/\" + test_images[9];\n",
        "duration, scores, labels, boxes = gtf.Predict(img_path, class_list, vis_threshold=0.10);\n",
        "\n",
        "from IPython.display import Image\n",
        "Image(filename='output.jpg') "
      ],
      "execution_count": null,
      "outputs": [
        {
          "output_type": "stream",
          "name": "stdout",
          "text": [
            "Done. (0.047s)\n",
            "CPU times: user 76.2 ms, sys: 0 ns, total: 76.2 ms\n",
            "Wall time: 74 ms\n"
          ]
        }
      ]
    },
    {
      "cell_type": "code",
      "metadata": {
        "id": "AINktQgG1kmc",
        "colab": {
          "base_uri": "https://localhost:8080/",
          "height": 433
        },
        "outputId": "5baa4c39-6e42-4bf6-8c84-563f1c79eb6a"
      },
      "source": [
        "from IPython.display import Image\n",
        "Image(filename='output.jpg') "
      ],
      "execution_count": null,
      "outputs": [
        {
          "output_type": "execute_result",
          "data": {
            "image/jpeg": "[encoded data removed]",
            "text/plain": [
              "<IPython.core.display.Image object>"
            ]
          },
          "metadata": {},
          "execution_count": 50
        }
      ]
    },
    {
      "cell_type": "code",
      "metadata": {
        "colab": {
          "base_uri": "https://localhost:8080/"
        },
        "id": "SD2oYgfyOGDj",
        "outputId": "b0439e6f-5f06-44e3-df52-eaa9415975f4"
      },
      "source": [
        "#!python3 Monk_Object_Detection/4_efficientdet/lib/mAP_evaluation.py"
      ],
      "execution_count": 113,
      "outputs": [
        {
          "output_type": "stream",
          "name": "stdout",
          "text": [
            "Traceback (most recent call last):\n",
            "  File \"Monk_Object_Detection/4_efficientdet/lib/mAP_evaluation.py\", line 70, in <module>\n",
            "    transform=transforms.Compose([Normalizer(), Resizer()]))\n",
            "TypeError: __init__() got an unexpected keyword argument 'set'\n"
          ]
        }
      ]
    },
    {
      "cell_type": "markdown",
      "metadata": {
        "id": "dcCtiyMF69s_"
      },
      "source": [
        "#Video Testing"
      ]
    },
    {
      "cell_type": "code",
      "metadata": {
        "id": "ERH0ENPb7BYl",
        "colab": {
          "base_uri": "https://localhost:8080/"
        },
        "outputId": "5ce348d4-3b5f-4afe-a2d3-20ce58f9baea"
      },
      "source": [
        "import argparse\n",
        "import torch\n",
        "from src.config import COCO_CLASSES, colors\n",
        "import cv2\n",
        "import numpy as np\n",
        "#!python3 Monk_Object_Detection/4_efficientdet/lib/test_video.py --image_size 512 --cls_threshold 0.3 --nms_threshold 0.3 --pretrained_model \"/trained/efficientDet.pth\" --input \"5p5b_03A1 (1).mp4\" --output \"output.mp4\"\n",
        "\n"
      ],
      "execution_count": 110,
      "outputs": [
        {
          "output_type": "stream",
          "name": "stdout",
          "text": [
            "\u001b[0;35m[mov,mp4,m4a,3gp,3g2,mj2 @ 0x558f682aca00] \u001b[0m\u001b[1;31mmoov atom not found\n",
            "\u001b[0mVIDIOC_REQBUFS: Inappropriate ioctl for device\n"
          ]
        }
      ]
    },
    {
      "cell_type": "code",
      "metadata": {
        "id": "ohguUxvB7BIw"
      },
      "source": [
        "inputV = \"5p5b.mp4\"\n",
        "outputV = \"output.mp4\"\n",
        "pretrained_model = \"/trained/efficientDet.pth\"\n",
        "image_size = 512\n",
        "cls_threshold = 0.3\n",
        "nms_threshold = 0.3\n",
        "\n",
        "\n",
        "model = torch.load(pretrained_model).module\n",
        "if torch.cuda.is_available():\n",
        "   model.cuda()\n",
        "cap = cv2.VideoCapture(inputV)\n",
        "out = cv2.VideoWriter(outputV,  cv2.VideoWriter_fourcc(*\"MJPG\"), int(cap.get(cv2.CAP_PROP_FPS)),\n",
        "                      (int(cap.get(cv2.CAP_PROP_FRAME_WIDTH)), int(cap.get(cv2.CAP_PROP_FRAME_HEIGHT))))\n",
        "while cap.isOpened():\n",
        "    flag, image = cap.read()\n",
        "    output_image = np.copy(image)\n",
        "    if flag:\n",
        "        image = cv2.cvtColor(image, cv2.COLOR_BGR2RGB)\n",
        "    else:\n",
        "        break\n",
        "    height, width = image.shape[:2]\n",
        "    image = image.astype(np.float32) / 255\n",
        "    image[:, :, 0] = (image[:, :, 0] - 0.485) / 0.229\n",
        "    image[:, :, 1] = (image[:, :, 1] - 0.456) / 0.224\n",
        "    image[:, :, 2] = (image[:, :, 2] - 0.406) / 0.225\n",
        "    if height > width:\n",
        "        scale = image_size / height\n",
        "        resized_height = image_size\n",
        "        resized_width = int(width * scale)\n",
        "    else:\n",
        "        scale = image_size / width\n",
        "        resized_height = int(height * scale)\n",
        "        resized_width = image_size\n",
        "\n",
        "    image = cv2.resize(image, (resized_width, resized_height))\n",
        "\n",
        "    new_image = np.zeros((image_size, image_size, 3))\n",
        "    new_image[0:resized_height, 0:resized_width] = image\n",
        "    new_image = np.transpose(new_image, (2, 0, 1))\n",
        "    new_image = new_image[None, :, :, :]\n",
        "    new_image = torch.Tensor(new_image)\n",
        "    if torch.cuda.is_available():\n",
        "        new_image = new_image.cuda()\n",
        "    with torch.no_grad():\n",
        "        scores, labels, boxes = model(new_image)\n",
        "        boxes /= scale\n",
        "    if boxes.shape[0] == 0:\n",
        "        continue\n",
        "    for box_id in range(boxes.shape[0]):\n",
        "        pred_prob = float(scores[box_id])\n",
        "        if pred_prob < cls_threshold:\n",
        "            break\n",
        "        pred_label = int(labels[box_id])\n",
        "        xmin, ymin, xmax, ymax = boxes[box_id, :]\n",
        "        color = colors[pred_label]\n",
        "        cv2.rectangle(output_image, (xmin, ymin), (xmax, ymax), color, 2)\n",
        "        text_size = cv2.getTextSize(COCO_CLASSES[pred_label] + ' : %.2f' % pred_prob, cv2.FONT_HERSHEY_PLAIN, 1, 1)[0]\n",
        "        cv2.rectangle(output_image, (xmin, ymin), (xmin + text_size[0] + 3, ymin + text_size[1] + 4), color, -1)\n",
        "        cv2.putText(\n",
        "            output_image, COCO_CLASSES[pred_label] + ' : %.2f' % pred_prob,\n",
        "            (xmin, ymin + text_size[1] + 4), cv2.FONT_HERSHEY_PLAIN, 1,\n",
        "            (255, 255, 255), 1)\n",
        "    out.write(output_image)\n",
        "\n",
        "cap.release()\n",
        "out.release()"
      ],
      "execution_count": 102,
      "outputs": []
    }
  ]
}