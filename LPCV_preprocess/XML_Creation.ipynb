{
 "cells": [
  {
   "cell_type": "code",
   "execution_count": 3,
   "id": "b3268fc3",
   "metadata": {},
   "outputs": [],
   "source": [
    "\n",
    "import pandas as pd"
   ]
  },
  {
   "cell_type": "code",
   "execution_count": 4,
   "id": "f209c7f2",
   "metadata": {},
   "outputs": [
    {
     "name": "stdout",
     "output_type": "stream",
     "text": [
      "<class 'pandas.core.frame.DataFrame'>\n",
      "RangeIndex: 219 entries, 0 to 218\n",
      "Data columns (total 7 columns):\n",
      " #   Column  Non-Null Count  Dtype  \n",
      "---  ------  --------------  -----  \n",
      " 0   Frame   219 non-null    int64  \n",
      " 1   Class   219 non-null    int64  \n",
      " 2   ID      219 non-null    int64  \n",
      " 3   X       219 non-null    float64\n",
      " 4   Y       219 non-null    float64\n",
      " 5   Width   219 non-null    float64\n",
      " 6   Height  219 non-null    float64\n",
      "dtypes: float64(4), int64(3)\n",
      "memory usage: 12.1 KB\n"
     ]
    }
   ],
   "source": [
    "df = pd.read_csv('5p5b_03A1.csv')\n",
    "\n",
    "df.info()"
   ]
  },
  {
   "cell_type": "code",
   "execution_count": 14,
   "id": "fe800bf7",
   "metadata": {},
   "outputs": [],
   "source": [
    "df['Frame'] = df['Frame'].astype('str') #wasn't filtering when left as int"
   ]
  },
  {
   "cell_type": "code",
   "execution_count": 36,
   "id": "54ed148c",
   "metadata": {},
   "outputs": [],
   "source": [
    "f0 = df[df.Frame == '0'] # TODO: give name to every data frame, could be loop?\n",
    "f0.name = 'f0'\n",
    "f1 = df[df.Frame == '1']\n",
    "f2 = df[df.Frame == '2']\n",
    "f3 = df[df.Frame == '4']\n",
    "f5 = df[df.Frame == '5']\n",
    "f6 = df[df.Frame == '6']\n",
    "f7 = df[df.Frame == '7']\n",
    "f8 = df[df.Frame == '8']\n",
    "f9 = df[df.Frame == '9']\n",
    "f10 = df[df.Frame == '10']\n",
    "\n",
    "f924 = df[df.Frame == '924']\n",
    "f925 = df[df.Frame == '925']\n",
    "f926 = df[df.Frame == '926']\n",
    "f927 = df[df.Frame == '927']\n",
    "f928 = df[df.Frame == '928']\n",
    "f929 = df[df.Frame == '929']\n",
    "f930 = df[df.Frame == '930']\n",
    "f931 = df[df.Frame == '931']\n",
    "f932 = df[df.Frame == '932']\n",
    "f933 = df[df.Frame == '933']\n",
    "f934 = df[df.Frame == '934']\n",
    "\n"
   ]
  },
  {
   "cell_type": "code",
   "execution_count": 16,
   "id": "a6ccffa0",
   "metadata": {},
   "outputs": [
    {
     "name": "stdout",
     "output_type": "stream",
     "text": [
      "<class 'pandas.core.frame.DataFrame'>\n",
      "RangeIndex: 219 entries, 0 to 218\n",
      "Data columns (total 7 columns):\n",
      " #   Column  Non-Null Count  Dtype  \n",
      "---  ------  --------------  -----  \n",
      " 0   Frame   219 non-null    object \n",
      " 1   Class   219 non-null    int64  \n",
      " 2   ID      219 non-null    int64  \n",
      " 3   X       219 non-null    float64\n",
      " 4   Y       219 non-null    float64\n",
      " 5   Width   219 non-null    float64\n",
      " 6   Height  219 non-null    float64\n",
      "dtypes: float64(4), int64(2), object(1)\n",
      "memory usage: 12.1+ KB\n"
     ]
    }
   ],
   "source": [
    "df.info()"
   ]
  },
  {
   "cell_type": "markdown",
   "id": "55273b8a",
   "metadata": {},
   "source": [
    "## Directly to XML Approach\n",
    "Using pandas to_xml works in isolated environment"
   ]
  },
  {
   "cell_type": "code",
   "execution_count": 45,
   "id": "e9c76675",
   "metadata": {},
   "outputs": [],
   "source": [
    "#I think formatting needs work\n",
    "#writes xml to XML_files in git_hub ... just change user\\\\Documents\\\\Senior Design\n",
    "def looks_good(elem):\n",
    "    from xml.etree import ElementTree\n",
    "    from xml.dom import minidom\n",
    "    \n",
    "    rough_string = ElementTree.tostring(elem, 'utf-8')\n",
    "    reparsed = minidom.parseString(rough_string)\n",
    "    return reparsed.toprettyxml(indent = \"  \")\n",
    "\n",
    "def to_xml(df): #TODO: Save xml first then pull it back in to reformat ... not working on string\n",
    "    df_xml =  df.to_xml()\n",
    "    \n",
    "    xml_root = df_xml.getroot()\n",
    "    child = xml.Element('filename')\n",
    "    xml_root.append(child)\n",
    "    \n",
    "    tree.write\n",
    "    #attr_cols=['Frame', 'Class', 'ID', 'X','Y','Width','Height']\n",
    "    with open('C:\\\\Users\\\\ouren\\\\Documents\\\\Senior Design\\\\MLonTheEdge-Senior-Design-21-22\\\\LPCV_preprocess\\\\XML_Files\\\\%s.xml'%df.name,'w') as f:\n",
    "        f.write(looks_good(df_xml))\n",
    "    \n",
    "    "
   ]
  },
  {
   "cell_type": "code",
   "execution_count": 46,
   "id": "a3870de4",
   "metadata": {},
   "outputs": [
    {
     "ename": "AttributeError",
     "evalue": "'str' object has no attribute 'getroot'",
     "output_type": "error",
     "traceback": [
      "\u001b[1;31m---------------------------------------------------------------------------\u001b[0m",
      "\u001b[1;31mAttributeError\u001b[0m                            Traceback (most recent call last)",
      "\u001b[1;32mC:\\Users\\Public\\Documents\\Wondershare\\CreatorTemp/ipykernel_31420/366881330.py\u001b[0m in \u001b[0;36m<module>\u001b[1;34m\u001b[0m\n\u001b[1;32m----> 1\u001b[1;33m \u001b[0mf0_xml\u001b[0m \u001b[1;33m=\u001b[0m \u001b[0mto_xml\u001b[0m\u001b[1;33m(\u001b[0m\u001b[0mf0\u001b[0m\u001b[1;33m)\u001b[0m\u001b[1;33m\u001b[0m\u001b[1;33m\u001b[0m\u001b[0m\n\u001b[0m",
      "\u001b[1;32mC:\\Users\\Public\\Documents\\Wondershare\\CreatorTemp/ipykernel_31420/3133607223.py\u001b[0m in \u001b[0;36mto_xml\u001b[1;34m(df)\u001b[0m\n\u001b[0;32m     12\u001b[0m     \u001b[0mdf_xml\u001b[0m \u001b[1;33m=\u001b[0m  \u001b[0mdf\u001b[0m\u001b[1;33m.\u001b[0m\u001b[0mto_xml\u001b[0m\u001b[1;33m(\u001b[0m\u001b[1;33m)\u001b[0m\u001b[1;33m\u001b[0m\u001b[1;33m\u001b[0m\u001b[0m\n\u001b[0;32m     13\u001b[0m \u001b[1;33m\u001b[0m\u001b[0m\n\u001b[1;32m---> 14\u001b[1;33m     \u001b[0mxml_root\u001b[0m \u001b[1;33m=\u001b[0m \u001b[0mdf_xml\u001b[0m\u001b[1;33m.\u001b[0m\u001b[0mgetroot\u001b[0m\u001b[1;33m(\u001b[0m\u001b[1;33m)\u001b[0m\u001b[1;33m\u001b[0m\u001b[1;33m\u001b[0m\u001b[0m\n\u001b[0m\u001b[0;32m     15\u001b[0m     \u001b[0mchild\u001b[0m \u001b[1;33m=\u001b[0m \u001b[0mxml\u001b[0m\u001b[1;33m.\u001b[0m\u001b[0mElement\u001b[0m\u001b[1;33m(\u001b[0m\u001b[1;34m'filename'\u001b[0m\u001b[1;33m)\u001b[0m\u001b[1;33m\u001b[0m\u001b[1;33m\u001b[0m\u001b[0m\n\u001b[0;32m     16\u001b[0m     \u001b[0mxml_root\u001b[0m\u001b[1;33m.\u001b[0m\u001b[0mappend\u001b[0m\u001b[1;33m(\u001b[0m\u001b[0mchild\u001b[0m\u001b[1;33m)\u001b[0m\u001b[1;33m\u001b[0m\u001b[1;33m\u001b[0m\u001b[0m\n",
      "\u001b[1;31mAttributeError\u001b[0m: 'str' object has no attribute 'getroot'"
     ]
    }
   ],
   "source": [
    "f0_xml = to_xml(f0)\n"
   ]
  },
  {
   "cell_type": "markdown",
   "id": "b90b54f2",
   "metadata": {},
   "source": [
    "## Export to CSV (Appraoch 2)\n",
    "\n",
    "Each frame needs to be exported to individual CSV unless we can get df.to_xml() to work"
   ]
  },
  {
   "cell_type": "code",
   "execution_count": 91,
   "id": "0fcbe77b",
   "metadata": {},
   "outputs": [
    {
     "ename": "ImportError",
     "evalue": "cannot import name 'ABCIndex' from 'pandas.core.dtypes.generic' (C:\\Users\\ouren\\anaconda3\\lib\\site-packages\\pandas\\core\\dtypes\\generic.py)",
     "output_type": "error",
     "traceback": [
      "\u001b[1;31m---------------------------------------------------------------------------\u001b[0m",
      "\u001b[1;31mImportError\u001b[0m                               Traceback (most recent call last)",
      "\u001b[1;32m<ipython-input-91-41f8f9b05af4>\u001b[0m in \u001b[0;36m<module>\u001b[1;34m\u001b[0m\n\u001b[1;32m----> 1\u001b[1;33m \u001b[0mf0\u001b[0m\u001b[1;33m.\u001b[0m\u001b[0mto_csv\u001b[0m\u001b[1;33m(\u001b[0m\u001b[1;34m'f0.csv'\u001b[0m\u001b[1;33m,\u001b[0m \u001b[0msep\u001b[0m \u001b[1;33m=\u001b[0m \u001b[1;34m'\\t'\u001b[0m\u001b[1;33m,\u001b[0m \u001b[0mencoding\u001b[0m \u001b[1;33m=\u001b[0m \u001b[1;34m'utf-8'\u001b[0m\u001b[1;33m)\u001b[0m\u001b[1;33m\u001b[0m\u001b[1;33m\u001b[0m\u001b[0m\n\u001b[0m",
      "\u001b[1;32m~\\anaconda3\\lib\\site-packages\\pandas\\core\\generic.py\u001b[0m in \u001b[0;36mto_csv\u001b[1;34m(self, path_or_buf, sep, na_rep, float_format, columns, header, index, index_label, mode, encoding, compression, quoting, quotechar, line_terminator, chunksize, date_format, doublequote, escapechar, decimal, errors, storage_options)\u001b[0m\n\u001b[0;32m   3385\u001b[0m \u001b[1;33m\u001b[0m\u001b[0m\n\u001b[0;32m   3386\u001b[0m             \u001b[1;33m.\u001b[0m\u001b[1;33m.\u001b[0m \u001b[0mversionchanged\u001b[0m\u001b[1;33m:\u001b[0m\u001b[1;33m:\u001b[0m \u001b[1;36m1.2\u001b[0m\u001b[1;36m.0\u001b[0m\u001b[1;33m\u001b[0m\u001b[1;33m\u001b[0m\u001b[0m\n\u001b[1;32m-> 3387\u001b[1;33m \u001b[1;33m\u001b[0m\u001b[0m\n\u001b[0m\u001b[0;32m   3388\u001b[0m                 \u001b[0mCompression\u001b[0m \u001b[1;32mis\u001b[0m \u001b[0msupported\u001b[0m \u001b[1;32mfor\u001b[0m \u001b[0mbinary\u001b[0m \u001b[0mfile\u001b[0m \u001b[0mobjects\u001b[0m\u001b[1;33m.\u001b[0m\u001b[1;33m\u001b[0m\u001b[1;33m\u001b[0m\u001b[0m\n\u001b[0;32m   3389\u001b[0m \u001b[1;33m\u001b[0m\u001b[0m\n",
      "\u001b[1;32m~\\anaconda3\\lib\\site-packages\\pandas\\io\\formats\\format.py\u001b[0m in \u001b[0;36mto_csv\u001b[1;34m(self, path_or_buf, encoding, sep, columns, index_label, mode, compression, quoting, quotechar, line_terminator, chunksize, date_format, doublequote, escapechar, errors, storage_options)\u001b[0m\n\u001b[0;32m   1054\u001b[0m         \u001b[1;32mreturn\u001b[0m \u001b[0msave_to_buffer\u001b[0m\u001b[1;33m(\u001b[0m\u001b[0mstring\u001b[0m\u001b[1;33m,\u001b[0m \u001b[0mbuf\u001b[0m\u001b[1;33m=\u001b[0m\u001b[0mbuf\u001b[0m\u001b[1;33m,\u001b[0m \u001b[0mencoding\u001b[0m\u001b[1;33m=\u001b[0m\u001b[0mencoding\u001b[0m\u001b[1;33m)\u001b[0m\u001b[1;33m\u001b[0m\u001b[1;33m\u001b[0m\u001b[0m\n\u001b[0;32m   1055\u001b[0m \u001b[1;33m\u001b[0m\u001b[0m\n\u001b[1;32m-> 1056\u001b[1;33m     def to_csv(\n\u001b[0m\u001b[0;32m   1057\u001b[0m         \u001b[0mself\u001b[0m\u001b[1;33m,\u001b[0m\u001b[1;33m\u001b[0m\u001b[1;33m\u001b[0m\u001b[0m\n\u001b[0;32m   1058\u001b[0m         \u001b[0mpath_or_buf\u001b[0m\u001b[1;33m:\u001b[0m \u001b[0mFilePathOrBuffer\u001b[0m\u001b[1;33m[\u001b[0m\u001b[0mAnyStr\u001b[0m\u001b[1;33m]\u001b[0m \u001b[1;33m|\u001b[0m \u001b[1;32mNone\u001b[0m \u001b[1;33m=\u001b[0m \u001b[1;32mNone\u001b[0m\u001b[1;33m,\u001b[0m\u001b[1;33m\u001b[0m\u001b[1;33m\u001b[0m\u001b[0m\n",
      "\u001b[1;32m~\\anaconda3\\lib\\site-packages\\pandas\\io\\formats\\csvs.py\u001b[0m in \u001b[0;36m<module>\u001b[1;34m\u001b[0m\n\u001b[0;32m     27\u001b[0m )\n\u001b[0;32m     28\u001b[0m \u001b[1;33m\u001b[0m\u001b[0m\n\u001b[1;32m---> 29\u001b[1;33m from pandas.core.dtypes.generic import (\n\u001b[0m\u001b[0;32m     30\u001b[0m     \u001b[0mABCDatetimeIndex\u001b[0m\u001b[1;33m,\u001b[0m\u001b[1;33m\u001b[0m\u001b[1;33m\u001b[0m\u001b[0m\n\u001b[0;32m     31\u001b[0m     \u001b[0mABCIndex\u001b[0m\u001b[1;33m,\u001b[0m\u001b[1;33m\u001b[0m\u001b[1;33m\u001b[0m\u001b[0m\n",
      "\u001b[1;31mImportError\u001b[0m: cannot import name 'ABCIndex' from 'pandas.core.dtypes.generic' (C:\\Users\\ouren\\anaconda3\\lib\\site-packages\\pandas\\core\\dtypes\\generic.py)"
     ]
    }
   ],
   "source": [
    "f0.to_csv('f0.csv', sep = '\\t', encoding = 'utf-8')"
   ]
  },
  {
   "cell_type": "markdown",
   "id": "3e309d00",
   "metadata": {},
   "source": [
    "## CSV to XML\n",
    "\n",
    "XML files created from CSV files with format like example.xml. We have all the info it just needs to be in this exact format.\n",
    "We may need to breakdown MP4 and save frames first so we have the filenames"
   ]
  },
  {
   "cell_type": "code",
   "execution_count": null,
   "id": "d171bb82",
   "metadata": {},
   "outputs": [],
   "source": []
  }
 ],
 "metadata": {
  "kernelspec": {
   "display_name": "LPCV_pre",
   "language": "python",
   "name": "lpcv_pre"
  },
  "language_info": {
   "codemirror_mode": {
    "name": "ipython",
    "version": 3
   },
   "file_extension": ".py",
   "mimetype": "text/x-python",
   "name": "python",
   "nbconvert_exporter": "python",
   "pygments_lexer": "ipython3",
   "version": "3.9.0"
  }
 },
 "nbformat": 4,
 "nbformat_minor": 5
}
